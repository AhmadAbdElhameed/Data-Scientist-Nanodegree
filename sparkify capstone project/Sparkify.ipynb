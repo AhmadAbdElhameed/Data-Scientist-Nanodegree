{
 "cells": [
  {
   "cell_type": "markdown",
   "metadata": {},
   "source": [
    "# Sparkify Project Workspace\n",
    "This workspace contains a tiny subset (128MB) of the full dataset available (12GB). Feel free to use this workspace to build your project, or to explore a smaller subset with Spark before deploying your cluster on the cloud. Instructions for setting up your Spark cluster is included in the last lesson of the Extracurricular Spark Course content.\n",
    "\n",
    "You can follow the steps below to guide your data analysis and model building portion of this project."
   ]
  },
  {
   "cell_type": "code",
   "execution_count": 1,
   "metadata": {},
   "outputs": [],
   "source": [
    "# import libraries\n",
    "import pyspark\n",
    "from pyspark import SparkConf\n",
    "from pyspark.sql import SparkSession\n",
    "import pyspark.sql.functions as psqf\n",
    "import pyspark.sql.types as psqt\n",
    "from pyspark import SparkContext\n",
    "from pyspark.sql import SparkSession\n",
    "from pyspark.sql.window import Window\n",
    "from pyspark.sql.functions import udf, max, min, lit, when, col, count, countDistinct , avg\n",
    "from pyspark.sql.types import *"
   ]
  },
  {
   "cell_type": "code",
   "execution_count": 221,
   "metadata": {},
   "outputs": [],
   "source": [
    "from sklearn.metrics import roc_curve, auc\n",
    "from pyspark.ml import Pipeline\n",
    "from pyspark.ml.classification import NaiveBayes ,LogisticRegression, RandomForestClassifier, DecisionTreeClassifier ,GBTClassifier\n",
    "from pyspark.mllib.tree import DecisionTree\n",
    "from pyspark.ml.evaluation import BinaryClassificationEvaluator, MulticlassClassificationEvaluator\n",
    "from pyspark.ml.linalg import Vectors\n",
    "from pyspark.mllib.evaluation import BinaryClassificationMetrics as metric\n",
    "from pyspark.ml.feature import VectorAssembler, Normalizer, StandardScaler\n",
    "from pyspark.ml.tuning import CrossValidator, ParamGridBuilder"
   ]
  },
  {
   "cell_type": "code",
   "execution_count": 3,
   "metadata": {},
   "outputs": [],
   "source": [
    "import datetime\n",
    "import numpy as np\n",
    "import pandas as pd\n",
    "import matplotlib.pyplot as plt\n",
    "%matplotlib inline\n",
    "import math\n",
    "import re\n",
    "import seaborn as sns"
   ]
  },
  {
   "cell_type": "code",
   "execution_count": 4,
   "metadata": {},
   "outputs": [],
   "source": [
    "# create a Spark session\n",
    "spark = SparkSession \\\n",
    "    .builder \\\n",
    "    .appName(\"sparkify capstone project\") \\\n",
    "    .getOrCreate()"
   ]
  },
  {
   "cell_type": "code",
   "execution_count": 5,
   "metadata": {
    "scrolled": true
   },
   "outputs": [
    {
     "data": {
      "text/plain": [
       "[('spark.app.name', 'sparkify capstone project'),\n",
       " ('spark.rdd.compress', 'True'),\n",
       " ('spark.serializer.objectStreamReset', '100'),\n",
       " ('spark.master', 'local[*]'),\n",
       " ('spark.executor.id', 'driver'),\n",
       " ('spark.submit.deployMode', 'client'),\n",
       " ('spark.app.id', 'local-1632328864135'),\n",
       " ('spark.driver.port', '33993'),\n",
       " ('spark.ui.showConsoleProgress', 'true'),\n",
       " ('spark.driver.host', '4b2e9af9d88b')]"
      ]
     },
     "execution_count": 5,
     "metadata": {},
     "output_type": "execute_result"
    }
   ],
   "source": [
    "spark.sparkContext.getConf().getAll()"
   ]
  },
  {
   "cell_type": "code",
   "execution_count": 6,
   "metadata": {},
   "outputs": [
    {
     "data": {
      "text/html": [
       "\n",
       "            <div>\n",
       "                <p><b>SparkSession - in-memory</b></p>\n",
       "                \n",
       "        <div>\n",
       "            <p><b>SparkContext</b></p>\n",
       "\n",
       "            <p><a href=\"http://4b2e9af9d88b:4040\">Spark UI</a></p>\n",
       "\n",
       "            <dl>\n",
       "              <dt>Version</dt>\n",
       "                <dd><code>v2.4.3</code></dd>\n",
       "              <dt>Master</dt>\n",
       "                <dd><code>local[*]</code></dd>\n",
       "              <dt>AppName</dt>\n",
       "                <dd><code>sparkify capstone project</code></dd>\n",
       "            </dl>\n",
       "        </div>\n",
       "        \n",
       "            </div>\n",
       "        "
      ],
      "text/plain": [
       "<pyspark.sql.session.SparkSession at 0x7f8cbb858b38>"
      ]
     },
     "execution_count": 6,
     "metadata": {},
     "output_type": "execute_result"
    }
   ],
   "source": [
    "spark"
   ]
  },
  {
   "cell_type": "markdown",
   "metadata": {},
   "source": [
    "# Load and Clean Dataset\n",
    "In this workspace, the mini-dataset file is `mini_sparkify_event_data.json`. Load and clean the dataset, checking for invalid or missing data - for example, records without userids or sessionids. "
   ]
  },
  {
   "cell_type": "code",
   "execution_count": 7,
   "metadata": {},
   "outputs": [],
   "source": [
    "path = \"mini_sparkify_event_data.json\"\n",
    "sparkify_data = spark.read.json(path)"
   ]
  },
  {
   "cell_type": "code",
   "execution_count": 8,
   "metadata": {
    "scrolled": true
   },
   "outputs": [
    {
     "name": "stdout",
     "output_type": "stream",
     "text": [
      "root\n",
      " |-- artist: string (nullable = true)\n",
      " |-- auth: string (nullable = true)\n",
      " |-- firstName: string (nullable = true)\n",
      " |-- gender: string (nullable = true)\n",
      " |-- itemInSession: long (nullable = true)\n",
      " |-- lastName: string (nullable = true)\n",
      " |-- length: double (nullable = true)\n",
      " |-- level: string (nullable = true)\n",
      " |-- location: string (nullable = true)\n",
      " |-- method: string (nullable = true)\n",
      " |-- page: string (nullable = true)\n",
      " |-- registration: long (nullable = true)\n",
      " |-- sessionId: long (nullable = true)\n",
      " |-- song: string (nullable = true)\n",
      " |-- status: long (nullable = true)\n",
      " |-- ts: long (nullable = true)\n",
      " |-- userAgent: string (nullable = true)\n",
      " |-- userId: string (nullable = true)\n",
      "\n"
     ]
    }
   ],
   "source": [
    "sparkify_data.printSchema()"
   ]
  },
  {
   "cell_type": "code",
   "execution_count": 9,
   "metadata": {},
   "outputs": [
    {
     "data": {
      "text/plain": [
       "DataFrame[summary: string, artist: string, auth: string, firstName: string, gender: string, itemInSession: string, lastName: string, length: string, level: string, location: string, method: string, page: string, registration: string, sessionId: string, song: string, status: string, ts: string, userAgent: string, userId: string]"
      ]
     },
     "execution_count": 9,
     "metadata": {},
     "output_type": "execute_result"
    }
   ],
   "source": [
    "sparkify_data.describe()"
   ]
  },
  {
   "cell_type": "code",
   "execution_count": 10,
   "metadata": {},
   "outputs": [
    {
     "name": "stdout",
     "output_type": "stream",
     "text": [
      "+-------+-----------------+\n",
      "|summary|        sessionId|\n",
      "+-------+-----------------+\n",
      "|  count|           286500|\n",
      "|   mean|1041.526554973822|\n",
      "| stddev|726.7762634630741|\n",
      "|    min|                1|\n",
      "|    max|             2474|\n",
      "+-------+-----------------+\n",
      "\n"
     ]
    }
   ],
   "source": [
    "sparkify_data.describe(\"sessionId\").show()"
   ]
  },
  {
   "cell_type": "code",
   "execution_count": 11,
   "metadata": {},
   "outputs": [
    {
     "data": {
      "text/plain": [
       "286500"
      ]
     },
     "execution_count": 11,
     "metadata": {},
     "output_type": "execute_result"
    }
   ],
   "source": [
    "sparkify_data.count()"
   ]
  },
  {
   "cell_type": "code",
   "execution_count": 12,
   "metadata": {},
   "outputs": [
    {
     "data": {
      "text/plain": [
       "18"
      ]
     },
     "execution_count": 12,
     "metadata": {},
     "output_type": "execute_result"
    }
   ],
   "source": [
    "len(sparkify_data.columns)"
   ]
  },
  {
   "cell_type": "code",
   "execution_count": 13,
   "metadata": {},
   "outputs": [],
   "source": [
    "null_vals = sparkify_data.select([psqf.count(psqf.when(psqf.isnull(n),n)).alias(n) for n in sparkify_data.columns])"
   ]
  },
  {
   "cell_type": "code",
   "execution_count": 14,
   "metadata": {},
   "outputs": [
    {
     "name": "stdout",
     "output_type": "stream",
     "text": [
      "+------+----+---------+------+-------------+--------+------+-----+--------+------+----+------------+---------+-----+------+---+---------+------+\n",
      "|artist|auth|firstName|gender|itemInSession|lastName|length|level|location|method|page|registration|sessionId| song|status| ts|userAgent|userId|\n",
      "+------+----+---------+------+-------------+--------+------+-----+--------+------+----+------------+---------+-----+------+---+---------+------+\n",
      "| 58392|   0|     8346|  8346|            0|    8346| 58392|    0|    8346|     0|   0|        8346|        0|58392|     0|  0|     8346|     0|\n",
      "+------+----+---------+------+-------------+--------+------+-----+--------+------+----+------------+---------+-----+------+---+---------+------+\n",
      "\n"
     ]
    }
   ],
   "source": [
    "null_vals.show() ## null values per colmun"
   ]
  },
  {
   "cell_type": "code",
   "execution_count": 15,
   "metadata": {},
   "outputs": [
    {
     "name": "stdout",
     "output_type": "stream",
     "text": [
      "+------+----+\n",
      "|userId|page|\n",
      "+------+----+\n",
      "|     0|   0|\n",
      "+------+----+\n",
      "\n"
     ]
    }
   ],
   "source": [
    "null_vals.select(\"userId\",\"page\").show()"
   ]
  },
  {
   "cell_type": "code",
   "execution_count": 16,
   "metadata": {
    "scrolled": false
   },
   "outputs": [
    {
     "name": "stdout",
     "output_type": "stream",
     "text": [
      "+------+----------+---------+------+-------------+--------+------+-----+--------+------+-----+------------+---------+----+------+-------------+---------+------+\n",
      "|artist|      auth|firstName|gender|itemInSession|lastName|length|level|location|method| page|registration|sessionId|song|status|           ts|userAgent|userId|\n",
      "+------+----------+---------+------+-------------+--------+------+-----+--------+------+-----+------------+---------+----+------+-------------+---------+------+\n",
      "|  null|Logged Out|     null|  null|          100|    null|  null| free|    null|   GET| Home|        null|        8|null|   200|1538355745000|     null|      |\n",
      "|  null|Logged Out|     null|  null|          101|    null|  null| free|    null|   GET| Help|        null|        8|null|   200|1538355807000|     null|      |\n",
      "|  null|Logged Out|     null|  null|          102|    null|  null| free|    null|   GET| Home|        null|        8|null|   200|1538355841000|     null|      |\n",
      "|  null|Logged Out|     null|  null|          103|    null|  null| free|    null|   PUT|Login|        null|        8|null|   307|1538355842000|     null|      |\n",
      "|  null|Logged Out|     null|  null|            2|    null|  null| free|    null|   GET| Home|        null|      240|null|   200|1538356678000|     null|      |\n",
      "|  null|Logged Out|     null|  null|            3|    null|  null| free|    null|   PUT|Login|        null|      240|null|   307|1538356679000|     null|      |\n",
      "|  null|Logged Out|     null|  null|            0|    null|  null| free|    null|   PUT|Login|        null|      100|null|   307|1538358102000|     null|      |\n",
      "|  null|Logged Out|     null|  null|            0|    null|  null| free|    null|   PUT|Login|        null|      241|null|   307|1538360117000|     null|      |\n",
      "|  null|Logged Out|     null|  null|           14|    null|  null| free|    null|   GET| Home|        null|      187|null|   200|1538361527000|     null|      |\n",
      "|  null|Logged Out|     null|  null|           15|    null|  null| free|    null|   PUT|Login|        null|      187|null|   307|1538361528000|     null|      |\n",
      "|  null|Logged Out|     null|  null|           21|    null|  null| free|    null|   GET| Home|        null|      187|null|   200|1538362007000|     null|      |\n",
      "|  null|Logged Out|     null|  null|           22|    null|  null| free|    null|   GET| Home|        null|      187|null|   200|1538362095000|     null|      |\n",
      "|  null|Logged Out|     null|  null|           23|    null|  null| free|    null|   PUT|Login|        null|      187|null|   307|1538362096000|     null|      |\n",
      "|  null|Logged Out|     null|  null|            0|    null|  null| free|    null|   GET| Home|        null|       27|null|   200|1538363488000|     null|      |\n",
      "|  null|Logged Out|     null|  null|            1|    null|  null| free|    null|   GET|About|        null|       27|null|   200|1538363494000|     null|      |\n",
      "|  null|Logged Out|     null|  null|            2|    null|  null| free|    null|   GET| Home|        null|       27|null|   200|1538363503000|     null|      |\n",
      "|  null|Logged Out|     null|  null|           38|    null|  null| free|    null|   GET| Home|        null|      187|null|   200|1538364254000|     null|      |\n",
      "|  null|Logged Out|     null|  null|           39|    null|  null| free|    null|   PUT|Login|        null|      187|null|   307|1538364255000|     null|      |\n",
      "|  null|Logged Out|     null|  null|            0|    null|  null| free|    null|   GET| Home|        null|      257|null|   200|1538364750000|     null|      |\n",
      "|  null|Logged Out|     null|  null|           47|    null|  null| free|    null|   GET| Home|        null|      100|null|   200|1538370681000|     null|      |\n",
      "+------+----------+---------+------+-------------+--------+------+-----+--------+------+-----+------------+---------+----+------+-------------+---------+------+\n",
      "only showing top 20 rows\n",
      "\n"
     ]
    }
   ],
   "source": [
    "sparkify_data.filter(sparkify_data[\"userId\"] == \"\").show()"
   ]
  },
  {
   "cell_type": "code",
   "execution_count": 17,
   "metadata": {},
   "outputs": [],
   "source": [
    "\n",
    "def sort_users(data, col):\n",
    "    \"\"\"\n",
    "    Show the users in sorted order \n",
    "    \"\"\"\n",
    "    data.select([col]).dropDuplicates().sort(col).show()"
   ]
  },
  {
   "cell_type": "code",
   "execution_count": 18,
   "metadata": {
    "scrolled": true
   },
   "outputs": [
    {
     "name": "stdout",
     "output_type": "stream",
     "text": [
      "+------+\n",
      "|userId|\n",
      "+------+\n",
      "|      |\n",
      "|    10|\n",
      "|   100|\n",
      "|100001|\n",
      "|100002|\n",
      "|100003|\n",
      "|100004|\n",
      "|100005|\n",
      "|100006|\n",
      "|100007|\n",
      "|100008|\n",
      "|100009|\n",
      "|100010|\n",
      "|100011|\n",
      "|100012|\n",
      "|100013|\n",
      "|100014|\n",
      "|100015|\n",
      "|100016|\n",
      "|100017|\n",
      "+------+\n",
      "only showing top 20 rows\n",
      "\n"
     ]
    }
   ],
   "source": [
    "sort_users(sparkify_data,\"userId\")"
   ]
  },
  {
   "cell_type": "markdown",
   "metadata": {},
   "source": [
    "**userId** has empty values"
   ]
  },
  {
   "cell_type": "code",
   "execution_count": 19,
   "metadata": {},
   "outputs": [
    {
     "name": "stdout",
     "output_type": "stream",
     "text": [
      "+--------+\n",
      "|  length|\n",
      "+--------+\n",
      "|    null|\n",
      "| 0.78322|\n",
      "| 2.16771|\n",
      "| 4.04853|\n",
      "|  4.8322|\n",
      "|  6.3473|\n",
      "| 7.83628|\n",
      "| 8.30649|\n",
      "| 9.01179|\n",
      "|10.03057|\n",
      "|10.52689|\n",
      "|11.20608|\n",
      "|11.25832|\n",
      "|11.36281|\n",
      "|11.49342|\n",
      "|11.54567|\n",
      "|11.93751|\n",
      "|11.98975|\n",
      "|12.22485|\n",
      "|12.30322|\n",
      "+--------+\n",
      "only showing top 20 rows\n",
      "\n"
     ]
    }
   ],
   "source": [
    "sort_users(sparkify_data, 'length')"
   ]
  },
  {
   "cell_type": "markdown",
   "metadata": {},
   "source": [
    "**gender** has null values"
   ]
  },
  {
   "cell_type": "code",
   "execution_count": 20,
   "metadata": {},
   "outputs": [
    {
     "name": "stdout",
     "output_type": "stream",
     "text": [
      "+-------------+\n",
      "|itemInSession|\n",
      "+-------------+\n",
      "|            0|\n",
      "|            1|\n",
      "|            2|\n",
      "|            3|\n",
      "|            4|\n",
      "|            5|\n",
      "|            6|\n",
      "|            7|\n",
      "|            8|\n",
      "|            9|\n",
      "|           10|\n",
      "|           11|\n",
      "|           12|\n",
      "|           13|\n",
      "|           14|\n",
      "|           15|\n",
      "|           16|\n",
      "|           17|\n",
      "|           18|\n",
      "|           19|\n",
      "+-------------+\n",
      "only showing top 20 rows\n",
      "\n"
     ]
    }
   ],
   "source": [
    "sort_users(sparkify_data, 'itemInSession')"
   ]
  },
  {
   "cell_type": "code",
   "execution_count": 21,
   "metadata": {},
   "outputs": [
    {
     "name": "stdout",
     "output_type": "stream",
     "text": [
      "+------+\n",
      "|gender|\n",
      "+------+\n",
      "|  null|\n",
      "|     F|\n",
      "|     M|\n",
      "+------+\n",
      "\n"
     ]
    }
   ],
   "source": [
    "sort_users(sparkify_data, 'gender')"
   ]
  },
  {
   "cell_type": "markdown",
   "metadata": {},
   "source": [
    "**gender** has null values"
   ]
  },
  {
   "cell_type": "code",
   "execution_count": 22,
   "metadata": {
    "scrolled": true
   },
   "outputs": [
    {
     "name": "stdout",
     "output_type": "stream",
     "text": [
      "+--------------------+\n",
      "|                song|\n",
      "+--------------------+\n",
      "|                null|\n",
      "|\u001c",
      "ÃÂg ÃÂtti Gr...|\n",
      "| I Will Not Reap ...|\n",
      "|              !@*$%#|\n",
      "|#!*@ You Tonight ...|\n",
      "|                  #1|\n",
      "|#1 Fan [Feat. Key...|\n",
      "|           #1 Stunna|\n",
      "|                 #16|\n",
      "| #18 (Album Version)|\n",
      "|#2 For Prepared W...|\n",
      "|                 #24|\n",
      "|  #4 (Album Version)|\n",
      "|                 #40|\n",
      "|                   $|\n",
      "|       $1000 Wedding|\n",
      "|$87 And A Guilty ...|\n",
      "|                $in$|\n",
      "|       $timulus Plan|\n",
      "|              & Down|\n",
      "+--------------------+\n",
      "only showing top 20 rows\n",
      "\n"
     ]
    }
   ],
   "source": [
    "sort_users(sparkify_data, 'song')"
   ]
  },
  {
   "cell_type": "markdown",
   "metadata": {},
   "source": [
    "**song** has null values"
   ]
  },
  {
   "cell_type": "code",
   "execution_count": 23,
   "metadata": {
    "scrolled": true
   },
   "outputs": [
    {
     "name": "stdout",
     "output_type": "stream",
     "text": [
      "+----------+\n",
      "| firstName|\n",
      "+----------+\n",
      "|      null|\n",
      "|  Adelaida|\n",
      "|    Adrian|\n",
      "|   Adriana|\n",
      "|    Adriel|\n",
      "|   Ainsley|\n",
      "|      Alex|\n",
      "| Alexander|\n",
      "|Alexandria|\n",
      "|     Alexi|\n",
      "|    Alyssa|\n",
      "|   Alyssia|\n",
      "| Amberlynn|\n",
      "|    Andrew|\n",
      "|     Angel|\n",
      "|     Anika|\n",
      "|      Anna|\n",
      "| Annabella|\n",
      "|  Antonina|\n",
      "|   Antonio|\n",
      "+----------+\n",
      "only showing top 20 rows\n",
      "\n"
     ]
    }
   ],
   "source": [
    "sort_users(sparkify_data, 'firstName')"
   ]
  },
  {
   "cell_type": "markdown",
   "metadata": {},
   "source": [
    "**firstName** has null values"
   ]
  },
  {
   "cell_type": "code",
   "execution_count": 24,
   "metadata": {},
   "outputs": [
    {
     "name": "stdout",
     "output_type": "stream",
     "text": [
      "+---------+\n",
      "| lastName|\n",
      "+---------+\n",
      "|     null|\n",
      "|    Adams|\n",
      "|  Aguilar|\n",
      "|Alexander|\n",
      "|    Allen|\n",
      "| Atkinson|\n",
      "|   Bailey|\n",
      "|    Baker|\n",
      "|     Ball|\n",
      "|   Barnes|\n",
      "|  Barnett|\n",
      "|     Beck|\n",
      "|  Bennett|\n",
      "|     Bird|\n",
      "|    Boone|\n",
      "|  Bradley|\n",
      "|   Brooks|\n",
      "|    Brown|\n",
      "|  Burgess|\n",
      "|  Cabrera|\n",
      "+---------+\n",
      "only showing top 20 rows\n",
      "\n"
     ]
    }
   ],
   "source": [
    "sort_users(sparkify_data, 'lastName')"
   ]
  },
  {
   "cell_type": "markdown",
   "metadata": {},
   "source": [
    "**lastName** has null values"
   ]
  },
  {
   "cell_type": "code",
   "execution_count": 25,
   "metadata": {
    "scrolled": true
   },
   "outputs": [
    {
     "name": "stdout",
     "output_type": "stream",
     "text": [
      "+--------------------+\n",
      "|              artist|\n",
      "+--------------------+\n",
      "|                null|\n",
      "|                 !!!|\n",
      "|        & And Oceans|\n",
      "|'N Sync/Phil Collins|\n",
      "|        'Til Tuesday|\n",
      "| 't Hof Van Commerce|\n",
      "|'t Hof Van Commer...|\n",
      "|       (Love) Tattoo|\n",
      "|          (hed) p.e.|\n",
      "|*NSYNC featuring ...|\n",
      "|  + / - {Plus/Minus}|\n",
      "|                 +44|\n",
      "|          -123 minut|\n",
      "|            -123min.|\n",
      "|       ...And Oceans|\n",
      "|...And You Will K...|\n",
      "|           1 40 4 20|\n",
      "|1 Giant Leap feat...|\n",
      "|1 Giant Leap feat...|\n",
      "|1 Giant Leap feat...|\n",
      "+--------------------+\n",
      "only showing top 20 rows\n",
      "\n"
     ]
    }
   ],
   "source": [
    "sort_users(sparkify_data, 'artist')"
   ]
  },
  {
   "cell_type": "markdown",
   "metadata": {},
   "source": [
    "**artist** has null values"
   ]
  },
  {
   "cell_type": "code",
   "execution_count": 26,
   "metadata": {
    "scrolled": false
   },
   "outputs": [
    {
     "name": "stdout",
     "output_type": "stream",
     "text": [
      "+--------------------+\n",
      "|                page|\n",
      "+--------------------+\n",
      "|               About|\n",
      "|          Add Friend|\n",
      "|     Add to Playlist|\n",
      "|              Cancel|\n",
      "|Cancellation Conf...|\n",
      "|           Downgrade|\n",
      "|               Error|\n",
      "|                Help|\n",
      "|                Home|\n",
      "|               Login|\n",
      "|              Logout|\n",
      "|            NextSong|\n",
      "|            Register|\n",
      "|         Roll Advert|\n",
      "|       Save Settings|\n",
      "|            Settings|\n",
      "|    Submit Downgrade|\n",
      "| Submit Registration|\n",
      "|      Submit Upgrade|\n",
      "|         Thumbs Down|\n",
      "+--------------------+\n",
      "only showing top 20 rows\n",
      "\n"
     ]
    }
   ],
   "source": [
    "sort_users(sparkify_data, 'page')"
   ]
  },
  {
   "cell_type": "code",
   "execution_count": 27,
   "metadata": {},
   "outputs": [
    {
     "name": "stdout",
     "output_type": "stream",
     "text": [
      "+--------------------+\n",
      "|           userAgent|\n",
      "+--------------------+\n",
      "|                null|\n",
      "|\"Mozilla/5.0 (Mac...|\n",
      "|\"Mozilla/5.0 (Mac...|\n",
      "|\"Mozilla/5.0 (Mac...|\n",
      "|\"Mozilla/5.0 (Mac...|\n",
      "|\"Mozilla/5.0 (Mac...|\n",
      "|\"Mozilla/5.0 (Mac...|\n",
      "|\"Mozilla/5.0 (Mac...|\n",
      "|\"Mozilla/5.0 (Mac...|\n",
      "|\"Mozilla/5.0 (Mac...|\n",
      "|\"Mozilla/5.0 (Mac...|\n",
      "|\"Mozilla/5.0 (Mac...|\n",
      "|\"Mozilla/5.0 (Mac...|\n",
      "|\"Mozilla/5.0 (Mac...|\n",
      "|\"Mozilla/5.0 (Mac...|\n",
      "|\"Mozilla/5.0 (Mac...|\n",
      "|\"Mozilla/5.0 (Mac...|\n",
      "|\"Mozilla/5.0 (Mac...|\n",
      "|\"Mozilla/5.0 (Win...|\n",
      "|\"Mozilla/5.0 (Win...|\n",
      "+--------------------+\n",
      "only showing top 20 rows\n",
      "\n"
     ]
    }
   ],
   "source": [
    "sort_users(sparkify_data, 'userAgent')"
   ]
  },
  {
   "cell_type": "markdown",
   "metadata": {},
   "source": [
    "**userAgent** has null values"
   ]
  },
  {
   "cell_type": "code",
   "execution_count": 28,
   "metadata": {},
   "outputs": [
    {
     "name": "stdout",
     "output_type": "stream",
     "text": [
      "+--------------------+\n",
      "|            location|\n",
      "+--------------------+\n",
      "|                null|\n",
      "|          Albany, OR|\n",
      "|Albany-Schenectad...|\n",
      "|      Alexandria, LA|\n",
      "|Allentown-Bethleh...|\n",
      "|       Anchorage, AK|\n",
      "|Atlanta-Sandy Spr...|\n",
      "|Atlantic City-Ham...|\n",
      "|Austin-Round Rock...|\n",
      "|     Bakersfield, CA|\n",
      "|Baltimore-Columbi...|\n",
      "|        Billings, MT|\n",
      "|Birmingham-Hoover...|\n",
      "|Boston-Cambridge-...|\n",
      "|         Boulder, CO|\n",
      "|         Bozeman, MT|\n",
      "|Bridgeport-Stamfo...|\n",
      "|Buffalo-Cheektowa...|\n",
      "|Charlotte-Concord...|\n",
      "|Chicago-Napervill...|\n",
      "+--------------------+\n",
      "only showing top 20 rows\n",
      "\n"
     ]
    }
   ],
   "source": [
    "sort_users(sparkify_data, 'location')\n"
   ]
  },
  {
   "cell_type": "markdown",
   "metadata": {},
   "source": [
    "**location** has null values"
   ]
  },
  {
   "cell_type": "code",
   "execution_count": 29,
   "metadata": {
    "scrolled": true
   },
   "outputs": [
    {
     "name": "stdout",
     "output_type": "stream",
     "text": [
      "+----------+\n",
      "|      auth|\n",
      "+----------+\n",
      "| Cancelled|\n",
      "|     Guest|\n",
      "| Logged In|\n",
      "|Logged Out|\n",
      "+----------+\n",
      "\n"
     ]
    }
   ],
   "source": [
    "sort_users(sparkify_data, 'auth')"
   ]
  },
  {
   "cell_type": "code",
   "execution_count": 30,
   "metadata": {},
   "outputs": [
    {
     "name": "stdout",
     "output_type": "stream",
     "text": [
      "+-------------+\n",
      "| registration|\n",
      "+-------------+\n",
      "|         null|\n",
      "|1521380675000|\n",
      "|1526739206000|\n",
      "|1526838391000|\n",
      "|1528403713000|\n",
      "|1528560242000|\n",
      "|1528772084000|\n",
      "|1528780738000|\n",
      "|1529027541000|\n",
      "|1529252604000|\n",
      "|1529643103000|\n",
      "|1529934689000|\n",
      "|1530306321000|\n",
      "|1530333492000|\n",
      "|1530514394000|\n",
      "|1530674962000|\n",
      "|1530763799000|\n",
      "|1530789251000|\n",
      "|1531281160000|\n",
      "|1531350022000|\n",
      "+-------------+\n",
      "only showing top 20 rows\n",
      "\n"
     ]
    }
   ],
   "source": [
    "sort_users(sparkify_data,'registration')"
   ]
  },
  {
   "cell_type": "markdown",
   "metadata": {},
   "source": [
    "**registration** has null values"
   ]
  },
  {
   "cell_type": "code",
   "execution_count": 31,
   "metadata": {},
   "outputs": [
    {
     "name": "stdout",
     "output_type": "stream",
     "text": [
      "+------+\n",
      "|status|\n",
      "+------+\n",
      "|   200|\n",
      "|   307|\n",
      "|   404|\n",
      "+------+\n",
      "\n"
     ]
    }
   ],
   "source": [
    "sort_users(sparkify_data, 'status')"
   ]
  },
  {
   "cell_type": "code",
   "execution_count": 32,
   "metadata": {},
   "outputs": [
    {
     "name": "stdout",
     "output_type": "stream",
     "text": [
      "+-----+\n",
      "|level|\n",
      "+-----+\n",
      "| free|\n",
      "| paid|\n",
      "+-----+\n",
      "\n"
     ]
    }
   ],
   "source": [
    "sort_users(sparkify_data,'level')"
   ]
  },
  {
   "cell_type": "code",
   "execution_count": 33,
   "metadata": {},
   "outputs": [
    {
     "name": "stdout",
     "output_type": "stream",
     "text": [
      "+-------------+\n",
      "|           ts|\n",
      "+-------------+\n",
      "|1538352117000|\n",
      "|1538352180000|\n",
      "|1538352394000|\n",
      "|1538352416000|\n",
      "|1538352676000|\n",
      "|1538352678000|\n",
      "|1538352886000|\n",
      "|1538352899000|\n",
      "|1538352905000|\n",
      "|1538353084000|\n",
      "|1538353146000|\n",
      "|1538353150000|\n",
      "|1538353218000|\n",
      "|1538353375000|\n",
      "|1538353376000|\n",
      "|1538353441000|\n",
      "|1538353576000|\n",
      "|1538353668000|\n",
      "|1538353687000|\n",
      "|1538353744000|\n",
      "+-------------+\n",
      "only showing top 20 rows\n",
      "\n"
     ]
    }
   ],
   "source": [
    "sort_users(sparkify_data, 'ts')"
   ]
  },
  {
   "cell_type": "code",
   "execution_count": 34,
   "metadata": {},
   "outputs": [
    {
     "name": "stdout",
     "output_type": "stream",
     "text": [
      "+---------+\n",
      "|sessionId|\n",
      "+---------+\n",
      "|        1|\n",
      "|        2|\n",
      "|        3|\n",
      "|        4|\n",
      "|        5|\n",
      "|        6|\n",
      "|        7|\n",
      "|        8|\n",
      "|        9|\n",
      "|       10|\n",
      "|       11|\n",
      "|       12|\n",
      "|       13|\n",
      "|       15|\n",
      "|       16|\n",
      "|       17|\n",
      "|       18|\n",
      "|       19|\n",
      "|       20|\n",
      "|       21|\n",
      "+---------+\n",
      "only showing top 20 rows\n",
      "\n"
     ]
    }
   ],
   "source": [
    "sort_users(sparkify_data, 'sessionId')"
   ]
  },
  {
   "cell_type": "code",
   "execution_count": 35,
   "metadata": {},
   "outputs": [
    {
     "name": "stdout",
     "output_type": "stream",
     "text": [
      "+------+\n",
      "|method|\n",
      "+------+\n",
      "|   GET|\n",
      "|   PUT|\n",
      "+------+\n",
      "\n"
     ]
    }
   ],
   "source": [
    "sort_users(sparkify_data, 'method')"
   ]
  },
  {
   "cell_type": "markdown",
   "metadata": {},
   "source": [
    "## Mention all columns has nulls, or an empty values :\n",
    "- userId \n",
    "- userAgent \n",
    "- location \n",
    "- artist\n",
    "- firstName \n",
    "- lastName \n",
    "- gender \n",
    "- length\n",
    "- registration\n",
    "- song"
   ]
  },
  {
   "cell_type": "markdown",
   "metadata": {},
   "source": [
    "### Clean userId column "
   ]
  },
  {
   "cell_type": "markdown",
   "metadata": {},
   "source": [
    "remove all empty values for the userId and check again"
   ]
  },
  {
   "cell_type": "code",
   "execution_count": 36,
   "metadata": {},
   "outputs": [],
   "source": [
    "sparkify_data_v1 = sparkify_data.filter(sparkify_data[\"userId\"] != \"\")"
   ]
  },
  {
   "cell_type": "code",
   "execution_count": 37,
   "metadata": {},
   "outputs": [
    {
     "data": {
      "text/plain": [
       "286500"
      ]
     },
     "execution_count": 37,
     "metadata": {},
     "output_type": "execute_result"
    }
   ],
   "source": [
    "sparkify_data.count()"
   ]
  },
  {
   "cell_type": "code",
   "execution_count": 38,
   "metadata": {},
   "outputs": [
    {
     "data": {
      "text/plain": [
       "278154"
      ]
     },
     "execution_count": 38,
     "metadata": {},
     "output_type": "execute_result"
    }
   ],
   "source": [
    "sparkify_data_v1.count()"
   ]
  },
  {
   "cell_type": "code",
   "execution_count": 39,
   "metadata": {},
   "outputs": [
    {
     "name": "stdout",
     "output_type": "stream",
     "text": [
      "8346  empty values removed\n"
     ]
    }
   ],
   "source": [
    "print(sparkify_data.count() - sparkify_data_v1.count() , \" empty values removed\")"
   ]
  },
  {
   "cell_type": "code",
   "execution_count": 40,
   "metadata": {
    "scrolled": true
   },
   "outputs": [
    {
     "name": "stdout",
     "output_type": "stream",
     "text": [
      "+------+\n",
      "|userId|\n",
      "+------+\n",
      "|    10|\n",
      "|   100|\n",
      "|100001|\n",
      "|100002|\n",
      "|100003|\n",
      "|100004|\n",
      "|100005|\n",
      "|100006|\n",
      "|100007|\n",
      "|100008|\n",
      "|100009|\n",
      "|100010|\n",
      "|100011|\n",
      "|100012|\n",
      "|100013|\n",
      "|100014|\n",
      "|100015|\n",
      "|100016|\n",
      "|100017|\n",
      "|100018|\n",
      "+------+\n",
      "only showing top 20 rows\n",
      "\n"
     ]
    }
   ],
   "source": [
    "sort_users(sparkify_data_v1,\"userId\")"
   ]
  },
  {
   "cell_type": "markdown",
   "metadata": {},
   "source": [
    "Ok, userId is clean now , will check the other column which has null values"
   ]
  },
  {
   "cell_type": "code",
   "execution_count": 41,
   "metadata": {},
   "outputs": [
    {
     "name": "stdout",
     "output_type": "stream",
     "text": [
      "+--------------------+\n",
      "|           userAgent|\n",
      "+--------------------+\n",
      "|\"Mozilla/5.0 (Mac...|\n",
      "|\"Mozilla/5.0 (Mac...|\n",
      "|\"Mozilla/5.0 (Mac...|\n",
      "|\"Mozilla/5.0 (Mac...|\n",
      "|\"Mozilla/5.0 (Mac...|\n",
      "|\"Mozilla/5.0 (Mac...|\n",
      "|\"Mozilla/5.0 (Mac...|\n",
      "|\"Mozilla/5.0 (Mac...|\n",
      "|\"Mozilla/5.0 (Mac...|\n",
      "|\"Mozilla/5.0 (Mac...|\n",
      "|\"Mozilla/5.0 (Mac...|\n",
      "|\"Mozilla/5.0 (Mac...|\n",
      "|\"Mozilla/5.0 (Mac...|\n",
      "|\"Mozilla/5.0 (Mac...|\n",
      "|\"Mozilla/5.0 (Mac...|\n",
      "|\"Mozilla/5.0 (Mac...|\n",
      "|\"Mozilla/5.0 (Mac...|\n",
      "|\"Mozilla/5.0 (Win...|\n",
      "|\"Mozilla/5.0 (Win...|\n",
      "|\"Mozilla/5.0 (Win...|\n",
      "+--------------------+\n",
      "only showing top 20 rows\n",
      "\n"
     ]
    }
   ],
   "source": [
    "sort_users(sparkify_data_v1,\"userAgent\")"
   ]
  },
  {
   "cell_type": "code",
   "execution_count": 42,
   "metadata": {},
   "outputs": [
    {
     "name": "stdout",
     "output_type": "stream",
     "text": [
      "+--------------------+\n",
      "|            location|\n",
      "+--------------------+\n",
      "|          Albany, OR|\n",
      "|Albany-Schenectad...|\n",
      "|      Alexandria, LA|\n",
      "|Allentown-Bethleh...|\n",
      "|       Anchorage, AK|\n",
      "|Atlanta-Sandy Spr...|\n",
      "|Atlantic City-Ham...|\n",
      "|Austin-Round Rock...|\n",
      "|     Bakersfield, CA|\n",
      "|Baltimore-Columbi...|\n",
      "|        Billings, MT|\n",
      "|Birmingham-Hoover...|\n",
      "|Boston-Cambridge-...|\n",
      "|         Boulder, CO|\n",
      "|         Bozeman, MT|\n",
      "|Bridgeport-Stamfo...|\n",
      "|Buffalo-Cheektowa...|\n",
      "|Charlotte-Concord...|\n",
      "|Chicago-Napervill...|\n",
      "|Cincinnati, OH-KY-IN|\n",
      "+--------------------+\n",
      "only showing top 20 rows\n",
      "\n"
     ]
    }
   ],
   "source": [
    "sort_users(sparkify_data_v1,\"location\")"
   ]
  },
  {
   "cell_type": "code",
   "execution_count": null,
   "metadata": {},
   "outputs": [],
   "source": []
  },
  {
   "cell_type": "code",
   "execution_count": 43,
   "metadata": {
    "scrolled": true
   },
   "outputs": [
    {
     "name": "stdout",
     "output_type": "stream",
     "text": [
      "+--------------------+\n",
      "|              artist|\n",
      "+--------------------+\n",
      "|                null|\n",
      "|                 !!!|\n",
      "|        & And Oceans|\n",
      "|'N Sync/Phil Collins|\n",
      "|        'Til Tuesday|\n",
      "| 't Hof Van Commerce|\n",
      "|'t Hof Van Commer...|\n",
      "|       (Love) Tattoo|\n",
      "|          (hed) p.e.|\n",
      "|*NSYNC featuring ...|\n",
      "|  + / - {Plus/Minus}|\n",
      "|                 +44|\n",
      "|          -123 minut|\n",
      "|            -123min.|\n",
      "|       ...And Oceans|\n",
      "|...And You Will K...|\n",
      "|           1 40 4 20|\n",
      "|1 Giant Leap feat...|\n",
      "|1 Giant Leap feat...|\n",
      "|1 Giant Leap feat...|\n",
      "+--------------------+\n",
      "only showing top 20 rows\n",
      "\n"
     ]
    }
   ],
   "source": [
    "sort_users(sparkify_data_v1,\"artist\")"
   ]
  },
  {
   "cell_type": "markdown",
   "metadata": {},
   "source": [
    "**artist** column still has null values"
   ]
  },
  {
   "cell_type": "code",
   "execution_count": 44,
   "metadata": {},
   "outputs": [
    {
     "name": "stdout",
     "output_type": "stream",
     "text": [
      "+----------+\n",
      "| firstName|\n",
      "+----------+\n",
      "|  Adelaida|\n",
      "|    Adrian|\n",
      "|   Adriana|\n",
      "|    Adriel|\n",
      "|   Ainsley|\n",
      "|      Alex|\n",
      "| Alexander|\n",
      "|Alexandria|\n",
      "|     Alexi|\n",
      "|    Alyssa|\n",
      "|   Alyssia|\n",
      "| Amberlynn|\n",
      "|    Andrew|\n",
      "|     Angel|\n",
      "|     Anika|\n",
      "|      Anna|\n",
      "| Annabella|\n",
      "|  Antonina|\n",
      "|   Antonio|\n",
      "|      Aron|\n",
      "+----------+\n",
      "only showing top 20 rows\n",
      "\n"
     ]
    }
   ],
   "source": [
    "sort_users(sparkify_data_v1,\"firstName\")"
   ]
  },
  {
   "cell_type": "code",
   "execution_count": 45,
   "metadata": {},
   "outputs": [
    {
     "name": "stdout",
     "output_type": "stream",
     "text": [
      "+---------+\n",
      "| lastName|\n",
      "+---------+\n",
      "|    Adams|\n",
      "|  Aguilar|\n",
      "|Alexander|\n",
      "|    Allen|\n",
      "| Atkinson|\n",
      "|   Bailey|\n",
      "|    Baker|\n",
      "|     Ball|\n",
      "|   Barnes|\n",
      "|  Barnett|\n",
      "|     Beck|\n",
      "|  Bennett|\n",
      "|     Bird|\n",
      "|    Boone|\n",
      "|  Bradley|\n",
      "|   Brooks|\n",
      "|    Brown|\n",
      "|  Burgess|\n",
      "|  Cabrera|\n",
      "| Calderon|\n",
      "+---------+\n",
      "only showing top 20 rows\n",
      "\n"
     ]
    }
   ],
   "source": [
    "sort_users(sparkify_data_v1,\"lastName\")"
   ]
  },
  {
   "cell_type": "code",
   "execution_count": 46,
   "metadata": {},
   "outputs": [
    {
     "name": "stdout",
     "output_type": "stream",
     "text": [
      "+------+\n",
      "|gender|\n",
      "+------+\n",
      "|     F|\n",
      "|     M|\n",
      "+------+\n",
      "\n"
     ]
    }
   ],
   "source": [
    "sort_users(sparkify_data_v1,\"gender\")"
   ]
  },
  {
   "cell_type": "code",
   "execution_count": 47,
   "metadata": {},
   "outputs": [
    {
     "name": "stdout",
     "output_type": "stream",
     "text": [
      "+--------+\n",
      "|  length|\n",
      "+--------+\n",
      "|    null|\n",
      "| 0.78322|\n",
      "| 2.16771|\n",
      "| 4.04853|\n",
      "|  4.8322|\n",
      "|  6.3473|\n",
      "| 7.83628|\n",
      "| 8.30649|\n",
      "| 9.01179|\n",
      "|10.03057|\n",
      "|10.52689|\n",
      "|11.20608|\n",
      "|11.25832|\n",
      "|11.36281|\n",
      "|11.49342|\n",
      "|11.54567|\n",
      "|11.93751|\n",
      "|11.98975|\n",
      "|12.22485|\n",
      "|12.30322|\n",
      "+--------+\n",
      "only showing top 20 rows\n",
      "\n"
     ]
    }
   ],
   "source": [
    "sort_users(sparkify_data_v1,\"length\")"
   ]
  },
  {
   "cell_type": "markdown",
   "metadata": {},
   "source": [
    "**legnth** has null values"
   ]
  },
  {
   "cell_type": "code",
   "execution_count": 48,
   "metadata": {},
   "outputs": [
    {
     "name": "stdout",
     "output_type": "stream",
     "text": [
      "+-------------+\n",
      "| registration|\n",
      "+-------------+\n",
      "|1521380675000|\n",
      "|1526739206000|\n",
      "|1526838391000|\n",
      "|1528403713000|\n",
      "|1528560242000|\n",
      "|1528772084000|\n",
      "|1528780738000|\n",
      "|1529027541000|\n",
      "|1529252604000|\n",
      "|1529643103000|\n",
      "|1529934689000|\n",
      "|1530306321000|\n",
      "|1530333492000|\n",
      "|1530514394000|\n",
      "|1530674962000|\n",
      "|1530763799000|\n",
      "|1530789251000|\n",
      "|1531281160000|\n",
      "|1531350022000|\n",
      "|1531679695000|\n",
      "+-------------+\n",
      "only showing top 20 rows\n",
      "\n"
     ]
    }
   ],
   "source": [
    "sort_users(sparkify_data_v1,\"registration\")"
   ]
  },
  {
   "cell_type": "code",
   "execution_count": 49,
   "metadata": {},
   "outputs": [
    {
     "name": "stdout",
     "output_type": "stream",
     "text": [
      "+--------------------+\n",
      "|                song|\n",
      "+--------------------+\n",
      "|                null|\n",
      "|\u001c",
      "ÃÂg ÃÂtti Gr...|\n",
      "| I Will Not Reap ...|\n",
      "|              !@*$%#|\n",
      "|#!*@ You Tonight ...|\n",
      "|                  #1|\n",
      "|#1 Fan [Feat. Key...|\n",
      "|           #1 Stunna|\n",
      "|                 #16|\n",
      "| #18 (Album Version)|\n",
      "|#2 For Prepared W...|\n",
      "|                 #24|\n",
      "|  #4 (Album Version)|\n",
      "|                 #40|\n",
      "|                   $|\n",
      "|       $1000 Wedding|\n",
      "|$87 And A Guilty ...|\n",
      "|                $in$|\n",
      "|       $timulus Plan|\n",
      "|              & Down|\n",
      "+--------------------+\n",
      "only showing top 20 rows\n",
      "\n"
     ]
    }
   ],
   "source": [
    "sort_users(sparkify_data_v1,\"song\")"
   ]
  },
  {
   "cell_type": "markdown",
   "metadata": {},
   "source": [
    "**song** has null values"
   ]
  },
  {
   "cell_type": "markdown",
   "metadata": {},
   "source": [
    "### Currently song,legnth and artist columns still have null values"
   ]
  },
  {
   "cell_type": "code",
   "execution_count": 50,
   "metadata": {},
   "outputs": [],
   "source": [
    "sparkify_data_v2 = sparkify_data_v1.filter(sparkify_data_v1[\"song\"] != \"null\")"
   ]
  },
  {
   "cell_type": "code",
   "execution_count": 51,
   "metadata": {},
   "outputs": [
    {
     "name": "stdout",
     "output_type": "stream",
     "text": [
      "+--------------------+\n",
      "|                song|\n",
      "+--------------------+\n",
      "|\u001c",
      "ÃÂg ÃÂtti Gr...|\n",
      "| I Will Not Reap ...|\n",
      "|              !@*$%#|\n",
      "|#!*@ You Tonight ...|\n",
      "|                  #1|\n",
      "|#1 Fan [Feat. Key...|\n",
      "|           #1 Stunna|\n",
      "|                 #16|\n",
      "| #18 (Album Version)|\n",
      "|#2 For Prepared W...|\n",
      "|                 #24|\n",
      "|  #4 (Album Version)|\n",
      "|                 #40|\n",
      "|                   $|\n",
      "|       $1000 Wedding|\n",
      "|$87 And A Guilty ...|\n",
      "|                $in$|\n",
      "|       $timulus Plan|\n",
      "|              & Down|\n",
      "|&And The Battle B...|\n",
      "+--------------------+\n",
      "only showing top 20 rows\n",
      "\n"
     ]
    }
   ],
   "source": [
    "sort_users(sparkify_data_v2,\"song\")"
   ]
  },
  {
   "cell_type": "code",
   "execution_count": 52,
   "metadata": {},
   "outputs": [
    {
     "name": "stdout",
     "output_type": "stream",
     "text": [
      "+--------------------+\n",
      "|              artist|\n",
      "+--------------------+\n",
      "|                 !!!|\n",
      "|        & And Oceans|\n",
      "|'N Sync/Phil Collins|\n",
      "|        'Til Tuesday|\n",
      "| 't Hof Van Commerce|\n",
      "|'t Hof Van Commer...|\n",
      "|       (Love) Tattoo|\n",
      "|          (hed) p.e.|\n",
      "|*NSYNC featuring ...|\n",
      "|  + / - {Plus/Minus}|\n",
      "|                 +44|\n",
      "|          -123 minut|\n",
      "|            -123min.|\n",
      "|       ...And Oceans|\n",
      "|...And You Will K...|\n",
      "|           1 40 4 20|\n",
      "|1 Giant Leap feat...|\n",
      "|1 Giant Leap feat...|\n",
      "|1 Giant Leap feat...|\n",
      "|1 Giant Leap feat...|\n",
      "+--------------------+\n",
      "only showing top 20 rows\n",
      "\n"
     ]
    }
   ],
   "source": [
    "sort_users(sparkify_data_v2,\"artist\")"
   ]
  },
  {
   "cell_type": "code",
   "execution_count": 53,
   "metadata": {},
   "outputs": [
    {
     "name": "stdout",
     "output_type": "stream",
     "text": [
      "+--------+\n",
      "|  length|\n",
      "+--------+\n",
      "| 0.78322|\n",
      "| 2.16771|\n",
      "| 4.04853|\n",
      "|  4.8322|\n",
      "|  6.3473|\n",
      "| 7.83628|\n",
      "| 8.30649|\n",
      "| 9.01179|\n",
      "|10.03057|\n",
      "|10.52689|\n",
      "|11.20608|\n",
      "|11.25832|\n",
      "|11.36281|\n",
      "|11.49342|\n",
      "|11.54567|\n",
      "|11.93751|\n",
      "|11.98975|\n",
      "|12.22485|\n",
      "|12.30322|\n",
      "|12.43383|\n",
      "+--------+\n",
      "only showing top 20 rows\n",
      "\n"
     ]
    }
   ],
   "source": [
    "sort_users(sparkify_data_v2,\"length\")"
   ]
  },
  {
   "cell_type": "code",
   "execution_count": 54,
   "metadata": {},
   "outputs": [
    {
     "data": {
      "text/plain": [
       "228108"
      ]
     },
     "execution_count": 54,
     "metadata": {},
     "output_type": "execute_result"
    }
   ],
   "source": [
    "sparkify_data_v2.count()"
   ]
  },
  {
   "cell_type": "code",
   "execution_count": 55,
   "metadata": {},
   "outputs": [
    {
     "data": {
      "text/plain": [
       "278154"
      ]
     },
     "execution_count": 55,
     "metadata": {},
     "output_type": "execute_result"
    }
   ],
   "source": [
    "sparkify_data_v1.count()"
   ]
  },
  {
   "cell_type": "code",
   "execution_count": 56,
   "metadata": {},
   "outputs": [
    {
     "data": {
      "text/plain": [
       "286500"
      ]
     },
     "execution_count": 56,
     "metadata": {},
     "output_type": "execute_result"
    }
   ],
   "source": [
    "sparkify_data.count()"
   ]
  },
  {
   "cell_type": "markdown",
   "metadata": {},
   "source": [
    "# Now the data is totally clean"
   ]
  },
  {
   "cell_type": "markdown",
   "metadata": {},
   "source": [
    "# Exploratory Data Analysis\n",
    "When you're working with the full dataset, perform EDA by loading a small subset of the data and doing basic manipulations within Spark. In this workspace, you are already provided a small subset of data you can explore.\n",
    "\n",
    "### Define Churn\n",
    "\n",
    "Once you've done some preliminary analysis, create a column `Churn` to use as the label for your model. I suggest using the `Cancellation Confirmation` events to define your churn, which happen for both paid and free users. As a bonus task, you can also look into the `Downgrade` events.\n",
    "\n",
    "### Explore Data\n",
    "Once you've defined churn, perform some exploratory data analysis to observe the behavior for users who stayed vs users who churned. You can start by exploring aggregates on these two groups of users, observing how much of a specific action they experienced per a certain time unit or number of songs played."
   ]
  },
  {
   "cell_type": "code",
   "execution_count": 57,
   "metadata": {
    "scrolled": true
   },
   "outputs": [
    {
     "name": "stdout",
     "output_type": "stream",
     "text": [
      "+-----+-----------+\n",
      "|level|level_count|\n",
      "+-----+-----------+\n",
      "| free|      55721|\n",
      "| paid|     222433|\n",
      "+-----+-----------+\n",
      "\n"
     ]
    }
   ],
   "source": [
    "level_counts= sparkify_data_v1.groupby('level').agg({'level':'count'}).withColumnRenamed(\"count(level)\", \"level_count\")\n",
    "level_counts.show()"
   ]
  },
  {
   "cell_type": "code",
   "execution_count": 58,
   "metadata": {},
   "outputs": [
    {
     "name": "stdout",
     "output_type": "stream",
     "text": [
      "+--------------------+\n",
      "|                page|\n",
      "+--------------------+\n",
      "|              Cancel|\n",
      "|    Submit Downgrade|\n",
      "|         Thumbs Down|\n",
      "|                Home|\n",
      "|           Downgrade|\n",
      "|         Roll Advert|\n",
      "|              Logout|\n",
      "|       Save Settings|\n",
      "|Cancellation Conf...|\n",
      "|               About|\n",
      "|            Settings|\n",
      "|     Add to Playlist|\n",
      "|          Add Friend|\n",
      "|            NextSong|\n",
      "|           Thumbs Up|\n",
      "|                Help|\n",
      "|             Upgrade|\n",
      "|               Error|\n",
      "|      Submit Upgrade|\n",
      "+--------------------+\n",
      "\n"
     ]
    }
   ],
   "source": [
    "sparkify_data_v1.select(\"page\").distinct().show()"
   ]
  },
  {
   "cell_type": "code",
   "execution_count": 123,
   "metadata": {},
   "outputs": [
    {
     "name": "stdout",
     "output_type": "stream",
     "text": [
      "+--------+\n",
      "|    page|\n",
      "+--------+\n",
      "|NextSong|\n",
      "+--------+\n",
      "\n"
     ]
    }
   ],
   "source": [
    "sparkify_data_v2.select(\"page\").distinct().show()"
   ]
  },
  {
   "cell_type": "code",
   "execution_count": 60,
   "metadata": {},
   "outputs": [],
   "source": [
    "page_counts= sparkify_data_v1.groupby('page').agg({'page':'count'}).withColumnRenamed(\"count(page)\", \"page_count\")"
   ]
  },
  {
   "cell_type": "code",
   "execution_count": 61,
   "metadata": {
    "scrolled": false
   },
   "outputs": [
    {
     "name": "stdout",
     "output_type": "stream",
     "text": [
      "+--------------------+----------+\n",
      "|                page|page_count|\n",
      "+--------------------+----------+\n",
      "|              Cancel|        52|\n",
      "|    Submit Downgrade|        63|\n",
      "|         Thumbs Down|      2546|\n",
      "|                Home|     10082|\n",
      "|           Downgrade|      2055|\n",
      "|         Roll Advert|      3933|\n",
      "|              Logout|      3226|\n",
      "|       Save Settings|       310|\n",
      "|Cancellation Conf...|        52|\n",
      "|               About|       495|\n",
      "|            Settings|      1514|\n",
      "|     Add to Playlist|      6526|\n",
      "|          Add Friend|      4277|\n",
      "|            NextSong|    228108|\n",
      "|           Thumbs Up|     12551|\n",
      "|                Help|      1454|\n",
      "|             Upgrade|       499|\n",
      "|               Error|       252|\n",
      "|      Submit Upgrade|       159|\n",
      "+--------------------+----------+\n",
      "\n"
     ]
    }
   ],
   "source": [
    "page_counts.show()"
   ]
  },
  {
   "cell_type": "code",
   "execution_count": 62,
   "metadata": {},
   "outputs": [],
   "source": [
    "churn = sparkify_data_v1.groupby('userId').agg(psqf.collect_list('page').alias('pages'))"
   ]
  },
  {
   "cell_type": "code",
   "execution_count": 63,
   "metadata": {},
   "outputs": [],
   "source": [
    "# define 1 as churned, 0 otherwise\n",
    "churn_v1 = psqf.udf(lambda x: 1 if 'Cancel' in set(x) else 0)\n",
    "churn = churn.withColumn(\"label\", churn_v1(churn.pages)).drop('pages')"
   ]
  },
  {
   "cell_type": "code",
   "execution_count": 64,
   "metadata": {},
   "outputs": [
    {
     "data": {
      "text/plain": [
       "['userId', 'label']"
      ]
     },
     "execution_count": 64,
     "metadata": {},
     "output_type": "execute_result"
    }
   ],
   "source": [
    "churn.columns"
   ]
  },
  {
   "cell_type": "code",
   "execution_count": 65,
   "metadata": {
    "scrolled": true
   },
   "outputs": [
    {
     "name": "stdout",
     "output_type": "stream",
     "text": [
      "+------+-----+\n",
      "|userId|label|\n",
      "+------+-----+\n",
      "|100010|    0|\n",
      "|200002|    0|\n",
      "|   125|    1|\n",
      "|   124|    0|\n",
      "|    51|    1|\n",
      "+------+-----+\n",
      "only showing top 5 rows\n",
      "\n"
     ]
    }
   ],
   "source": [
    "churn.show(5)"
   ]
  },
  {
   "cell_type": "markdown",
   "metadata": {},
   "source": [
    "### Churned VS Non Churned"
   ]
  },
  {
   "cell_type": "markdown",
   "metadata": {},
   "source": [
    "**we defined churn, let's perform some exploratory data analysis to observe the behavior for users who stayed vs users who churned.**"
   ]
  },
  {
   "cell_type": "code",
   "execution_count": 66,
   "metadata": {},
   "outputs": [],
   "source": [
    "label_filter = churn.join(sparkify_data_v1,\"userId\")"
   ]
  },
  {
   "cell_type": "code",
   "execution_count": 67,
   "metadata": {
    "scrolled": true
   },
   "outputs": [
    {
     "name": "stdout",
     "output_type": "stream",
     "text": [
      "+------+--------------------+-----+\n",
      "|userId|                page|label|\n",
      "+------+--------------------+-----+\n",
      "|   125|              Cancel|    1|\n",
      "|   125|Cancellation Conf...|    1|\n",
      "|    51|              Cancel|    1|\n",
      "+------+--------------------+-----+\n",
      "only showing top 3 rows\n",
      "\n"
     ]
    }
   ],
   "source": [
    "label_filter.filter(psqf.col('page').isin([\"Cancel\", \"Cancellation Confirmation\"])).select('userId', 'page', 'label').show(3)"
   ]
  },
  {
   "cell_type": "code",
   "execution_count": 68,
   "metadata": {},
   "outputs": [],
   "source": [
    "### how many users churned and non-churned ?"
   ]
  },
  {
   "cell_type": "code",
   "execution_count": 69,
   "metadata": {
    "scrolled": true
   },
   "outputs": [
    {
     "name": "stdout",
     "output_type": "stream",
     "text": [
      "+-----+------+\n",
      "|label| count|\n",
      "+-----+------+\n",
      "|    0|233290|\n",
      "|    1| 44864|\n",
      "+-----+------+\n",
      "\n"
     ]
    }
   ],
   "source": [
    "churn_count = label_filter.groupby(\"label\").count().show()"
   ]
  },
  {
   "cell_type": "code",
   "execution_count": 70,
   "metadata": {},
   "outputs": [],
   "source": [
    "### How many songs played by churned and non churned users ?"
   ]
  },
  {
   "cell_type": "code",
   "execution_count": 71,
   "metadata": {},
   "outputs": [],
   "source": [
    "songs_play = label_filter.where(psqf.col('song')!='null').groupby(\"label\").agg(psqf.count(psqf.col('song')).alias('songs_play'))"
   ]
  },
  {
   "cell_type": "code",
   "execution_count": 72,
   "metadata": {
    "scrolled": true
   },
   "outputs": [
    {
     "name": "stdout",
     "output_type": "stream",
     "text": [
      "+-----+----------+\n",
      "|label|songs_play|\n",
      "+-----+----------+\n",
      "|    0|    191714|\n",
      "|    1|     36394|\n",
      "+-----+----------+\n",
      "\n"
     ]
    }
   ],
   "source": [
    "songs_play.show(5)"
   ]
  },
  {
   "cell_type": "markdown",
   "metadata": {},
   "source": [
    "**As we see there are 191714 songs played for non-churned user and 36394 for churned users**"
   ]
  },
  {
   "cell_type": "code",
   "execution_count": 73,
   "metadata": {},
   "outputs": [],
   "source": [
    "### How many songs liked by churned and non churned users ?"
   ]
  },
  {
   "cell_type": "code",
   "execution_count": 74,
   "metadata": {},
   "outputs": [],
   "source": [
    "songs_liked_by_users = label_filter.where((psqf.col('page')=='Thumbs Up')).\\\n",
    "groupby(\"label\").\\\n",
    "agg(psqf.count(psqf.col('page')).\\\n",
    "    alias('songs_liked_count'))"
   ]
  },
  {
   "cell_type": "code",
   "execution_count": 75,
   "metadata": {},
   "outputs": [
    {
     "name": "stdout",
     "output_type": "stream",
     "text": [
      "+-----+-----------------+\n",
      "|label|songs_liked_count|\n",
      "+-----+-----------------+\n",
      "|0    |10692            |\n",
      "|1    |1859             |\n",
      "+-----+-----------------+\n",
      "\n"
     ]
    }
   ],
   "source": [
    "songs_liked_by_users.show(5, False)"
   ]
  },
  {
   "cell_type": "markdown",
   "metadata": {},
   "source": [
    "**As we see there are 10692 songs liked for non-churned users and 1859 songs liked for churned users**"
   ]
  },
  {
   "cell_type": "code",
   "execution_count": 76,
   "metadata": {},
   "outputs": [],
   "source": [
    "df_to_plot = label_filter.groupby('userId', 'level', 'label').count()\n",
    "df_to_plot_pandas  = df_to_plot.select(\"userId\", \"level\", 'label').toPandas()"
   ]
  },
  {
   "cell_type": "markdown",
   "metadata": {},
   "source": [
    "### Plotting"
   ]
  },
  {
   "cell_type": "code",
   "execution_count": 77,
   "metadata": {
    "scrolled": true
   },
   "outputs": [
    {
     "data": {
      "image/png": "[encoded data removed]",
      "text/plain": [
       "<matplotlib.figure.Figure at 0x7f8ced6a80f0>"
      ]
     },
     "metadata": {
      "needs_background": "light"
     },
     "output_type": "display_data"
    }
   ],
   "source": [
    "df_to_plot_pandas.label.value_counts().plot(kind='bar');\n",
    "plt.ylabel('Users')\n",
    "plt.xlabel('Label')\n",
    "plt.title('Churned vs Non-Churned');"
   ]
  },
  {
   "cell_type": "code",
   "execution_count": 78,
   "metadata": {},
   "outputs": [
    {
     "data": {
      "image/png": "[encoded data removed]",
      "text/plain": [
       "<matplotlib.figure.Figure at 0x7f8cbb024828>"
      ]
     },
     "metadata": {
      "needs_background": "light"
     },
     "output_type": "display_data"
    }
   ],
   "source": [
    "df_to_plot_pandas[['level', 'label']].groupby(['level', 'label']).agg({'label':'count'}).unstack().plot(kind='bar');\n",
    "plt.title('churned Non-Churned level')\n",
    "plt.ylabel('customer count');"
   ]
  },
  {
   "cell_type": "code",
   "execution_count": null,
   "metadata": {},
   "outputs": [],
   "source": []
  },
  {
   "cell_type": "code",
   "execution_count": null,
   "metadata": {},
   "outputs": [],
   "source": []
  },
  {
   "cell_type": "markdown",
   "metadata": {},
   "source": [
    "# Feature Engineering\n",
    "Once you've familiarized yourself with the data, build out the features you find promising to train your model on. To work with the full dataset, you can follow the following steps.\n",
    "- Write a script to extract the necessary features from the smaller subset of data\n",
    "- Ensure that your script is scalable, using the best practices discussed in Lesson 3\n",
    "- Try your script on the full data set, debugging your script if necessary\n",
    "\n",
    "If you are working in the classroom workspace, you can just extract features based on the small subset of data contained here. Be sure to transfer over this work to the larger dataset when you work on your Spark cluster."
   ]
  },
  {
   "cell_type": "code",
   "execution_count": 79,
   "metadata": {
    "scrolled": false
   },
   "outputs": [
    {
     "name": "stdout",
     "output_type": "stream",
     "text": [
      "+------+--------------------+\n",
      "|userId|songs_played_counter|\n",
      "+------+--------------------+\n",
      "|100010|                 275|\n",
      "|200002|                 387|\n",
      "|   125|                   8|\n",
      "|    51|                2111|\n",
      "|   124|                4079|\n",
      "|     7|                 150|\n",
      "|    54|                2841|\n",
      "|    15|                1914|\n",
      "|   155|                 820|\n",
      "|   132|                1928|\n",
      "|   154|                  84|\n",
      "|100014|                 257|\n",
      "|   101|                1797|\n",
      "|    11|                 647|\n",
      "|   138|                2070|\n",
      "|300017|                3632|\n",
      "|    29|                3028|\n",
      "|    69|                1125|\n",
      "|100021|                 230|\n",
      "|    42|                3573|\n",
      "+------+--------------------+\n",
      "only showing top 20 rows\n",
      "\n"
     ]
    }
   ],
   "source": [
    "songs_played_count = sparkify_data_v1.filter(\"page == 'NextSong'\").groupBy(\"userId\").count()\n",
    "songs_played_count = songs_played_count.withColumnRenamed('count', 'songs_played_counter')\n",
    "songs_played_count.show()"
   ]
  },
  {
   "cell_type": "code",
   "execution_count": 80,
   "metadata": {},
   "outputs": [],
   "source": [
    "session_length = sparkify_data_v1.select(['userId', 'length']).distinct().groupBy(\"userId\") \\\n",
    ".agg(avg(\"length\").alias(\"session_length\"))"
   ]
  },
  {
   "cell_type": "code",
   "execution_count": 81,
   "metadata": {
    "scrolled": true
   },
   "outputs": [
    {
     "name": "stdout",
     "output_type": "stream",
     "text": [
      "+------+------------------+\n",
      "|userId|    session_length|\n",
      "+------+------------------+\n",
      "|100010|243.28376220149258|\n",
      "|200002| 243.8535182037533|\n",
      "|   125|261.13913750000006|\n",
      "|   124| 250.7709492796006|\n",
      "|    51|247.92487476446036|\n",
      "+------+------------------+\n",
      "only showing top 5 rows\n",
      "\n"
     ]
    }
   ],
   "source": [
    "session_length.show(5)"
   ]
  },
  {
   "cell_type": "code",
   "execution_count": 82,
   "metadata": {
    "scrolled": false
   },
   "outputs": [
    {
     "name": "stdout",
     "output_type": "stream",
     "text": [
      "+------+--------------------+------------------+\n",
      "|userId|songs_played_counter|    session_length|\n",
      "+------+--------------------+------------------+\n",
      "|100010|                 275|243.28376220149258|\n",
      "|200002|                 387| 243.8535182037533|\n",
      "|   125|                   8|261.13913750000006|\n",
      "|   124|                4079| 250.7709492796006|\n",
      "|    51|                2111|247.92487476446036|\n",
      "|     7|                 150| 251.1926630405405|\n",
      "|    15|                1914|251.10429575776783|\n",
      "|    54|                2841|  251.978400607917|\n",
      "|   155|                 820|240.49622712737127|\n",
      "|100014|                 257| 261.8860570661157|\n",
      "|   132|                1928|251.74449363344056|\n",
      "|   154|                  84|247.27114390243895|\n",
      "|   101|                1797|248.88575961643838|\n",
      "|    11|                 647| 246.2084100000001|\n",
      "|   138|                2070|249.05871161486903|\n",
      "|300017|                3632| 249.7192652406623|\n",
      "|100021|                 230|250.64712642857143|\n",
      "|    29|                3028|251.21818720248686|\n",
      "|    69|                1125|253.56698054192233|\n",
      "|   112|                 215|248.54336257281554|\n",
      "+------+--------------------+------------------+\n",
      "only showing top 20 rows\n",
      "\n"
     ]
    }
   ],
   "source": [
    "new_features = songs_played_count.join(session_length.select(['userId','session_length']),on = 'userId', how = 'inner')\n",
    "new_features.show()"
   ]
  },
  {
   "cell_type": "code",
   "execution_count": 83,
   "metadata": {},
   "outputs": [
    {
     "name": "stdout",
     "output_type": "stream",
     "text": [
      "+------+-----------------------+\n",
      "|userId|songs_added_to_playlist|\n",
      "+------+-----------------------+\n",
      "|100010|                      7|\n",
      "|200002|                      8|\n",
      "|    51|                     52|\n",
      "|   124|                    118|\n",
      "|     7|                      5|\n",
      "|    15|                     59|\n",
      "|    54|                     72|\n",
      "|   155|                     24|\n",
      "|   132|                     38|\n",
      "|   154|                      1|\n",
      "|100014|                      7|\n",
      "|   101|                     61|\n",
      "|    11|                     20|\n",
      "|   138|                     67|\n",
      "|300017|                    113|\n",
      "|    29|                     89|\n",
      "|    69|                     33|\n",
      "|100021|                      7|\n",
      "|    42|                    104|\n",
      "|   112|                      7|\n",
      "+------+-----------------------+\n",
      "only showing top 20 rows\n",
      "\n"
     ]
    }
   ],
   "source": [
    "songs_added_to_playlist = sparkify_data_v1.where(sparkify_data_v1.page==\"Add to Playlist\").groupby(\"userId\").count()\n",
    "songs_added_to_playlist = songs_added_to_playlist.withColumnRenamed('count', 'songs_added_to_playlist')\n",
    "songs_added_to_playlist.show()"
   ]
  },
  {
   "cell_type": "code",
   "execution_count": 84,
   "metadata": {
    "scrolled": false
   },
   "outputs": [
    {
     "name": "stdout",
     "output_type": "stream",
     "text": [
      "+------+--------------------+------------------+-----------------------+\n",
      "|userId|songs_played_counter|    session_length|songs_added_to_playlist|\n",
      "+------+--------------------+------------------+-----------------------+\n",
      "|100010|                 275|243.28376220149258|                      7|\n",
      "|200002|                 387| 243.8535182037533|                      8|\n",
      "|   124|                4079| 250.7709492796006|                    118|\n",
      "|    51|                2111|247.92487476446036|                     52|\n",
      "|     7|                 150| 251.1926630405405|                      5|\n",
      "|    15|                1914|251.10429575776783|                     59|\n",
      "|    54|                2841|  251.978400607917|                     72|\n",
      "|   155|                 820|240.49622712737127|                     24|\n",
      "|100014|                 257| 261.8860570661157|                      7|\n",
      "|   132|                1928|251.74449363344056|                     38|\n",
      "|   154|                  84|247.27114390243895|                      1|\n",
      "|   101|                1797|248.88575961643838|                     61|\n",
      "|    11|                 647| 246.2084100000001|                     20|\n",
      "|   138|                2070|249.05871161486903|                     67|\n",
      "|300017|                3632| 249.7192652406623|                    113|\n",
      "|100021|                 230|250.64712642857143|                      7|\n",
      "|    29|                3028|251.21818720248686|                     89|\n",
      "|    69|                1125|253.56698054192233|                     33|\n",
      "|   112|                 215|248.54336257281554|                      7|\n",
      "|    42|                3573|248.87731689601864|                    104|\n",
      "+------+--------------------+------------------+-----------------------+\n",
      "only showing top 20 rows\n",
      "\n"
     ]
    }
   ],
   "source": [
    "new_features = new_features.join(songs_added_to_playlist.select(['userId','songs_added_to_playlist']),on = 'userId', how = 'inner')\n",
    "new_features.show()"
   ]
  },
  {
   "cell_type": "code",
   "execution_count": 128,
   "metadata": {},
   "outputs": [],
   "source": [
    "## Like Counts Feature\n",
    "like_counts = sparkify_data_v1.where(sparkify_data_v1.page==\"Thumbs Up\").groupby(\"userId\").count()\n",
    "like_counts = like_counts.withColumnRenamed('count', 'like_counts')\n",
    "new_features = new_features.join(like_counts.select(['userId','like_counts']),on = 'userId', how = 'inner')"
   ]
  },
  {
   "cell_type": "code",
   "execution_count": 129,
   "metadata": {},
   "outputs": [],
   "source": [
    "## disLike Counts Feature\n",
    "dislike_counts = sparkify_data_v1.where(sparkify_data_v1.page==\"Thumbs Down\").groupby(\"userId\").count()\n",
    "dislike_counts = dislike_counts.withColumnRenamed('count', 'dislike_counts')\n",
    "new_features = new_features.join(dislike_counts.select(['userId','dislike_counts']),on = 'userId', how = 'inner')"
   ]
  },
  {
   "cell_type": "code",
   "execution_count": 130,
   "metadata": {
    "scrolled": false
   },
   "outputs": [
    {
     "name": "stdout",
     "output_type": "stream",
     "text": [
      "+------+--------------------+------------------+-----------------------+-----------+--------------+\n",
      "|userId|songs_played_counter|    session_length|songs_added_to_playlist|like_counts|dislike_counts|\n",
      "+------+--------------------+------------------+-----------------------+-----------+--------------+\n",
      "|100010|                 275|243.28376220149258|                      7|         17|             5|\n",
      "|200002|                 387| 243.8535182037533|                      8|         21|             6|\n",
      "|   124|                4079| 250.7709492796006|                    118|        171|            41|\n",
      "|    51|                2111|247.92487476446036|                     52|        100|            21|\n",
      "|     7|                 150| 251.1926630405405|                      5|          7|             1|\n",
      "|    15|                1914|251.10429575776783|                     59|         81|            14|\n",
      "|    54|                2841|  251.978400607917|                     72|        163|            29|\n",
      "|   155|                 820|240.49622712737127|                     24|         58|             3|\n",
      "|100014|                 257| 261.8860570661157|                      7|         17|             3|\n",
      "|   132|                1928|251.74449363344056|                     38|         96|            17|\n",
      "|   101|                1797|248.88575961643838|                     61|         86|            16|\n",
      "|    11|                 647| 246.2084100000001|                     20|         40|             9|\n",
      "|   138|                2070|249.05871161486903|                     67|         95|            24|\n",
      "|300017|                3632| 249.7192652406623|                    113|        303|            28|\n",
      "|100021|                 230|250.64712642857143|                      7|         11|             5|\n",
      "|    29|                3028|251.21818720248686|                     89|        154|            22|\n",
      "|    69|                1125|253.56698054192233|                     33|         72|             9|\n",
      "|   112|                 215|248.54336257281554|                      7|          9|             3|\n",
      "|    42|                3573|248.87731689601864|                    104|        166|            25|\n",
      "|    73|                 377|251.70702643258429|                     11|         14|             7|\n",
      "+------+--------------------+------------------+-----------------------+-----------+--------------+\n",
      "only showing top 20 rows\n",
      "\n"
     ]
    }
   ],
   "source": [
    "new_features.show()"
   ]
  },
  {
   "cell_type": "code",
   "execution_count": 132,
   "metadata": {},
   "outputs": [],
   "source": [
    "## songs played per session\n",
    "songs_played_per_session = sparkify_data_v1.where(sparkify_data_v1.page==\"NextSong\").groupby(\"userId\", \"sessionId\").count()\n",
    "songs_played_per_session = songs_played_per_session.groupby(\"userId\").agg(avg(songs_played_per_session[\"count\"]).alias(\"songs_played_per_session\"))"
   ]
  },
  {
   "cell_type": "code",
   "execution_count": 133,
   "metadata": {},
   "outputs": [
    {
     "name": "stdout",
     "output_type": "stream",
     "text": [
      "+------+--------------------+------------------+-----------------------+-----------+--------------+------------------------+\n",
      "|userId|songs_played_counter|    session_length|songs_added_to_playlist|like_counts|dislike_counts|songs_played_per_session|\n",
      "+------+--------------------+------------------+-----------------------+-----------+--------------+------------------------+\n",
      "|100010|                 275|243.28376220149258|                      7|         17|             5|      39.285714285714285|\n",
      "|200002|                 387| 243.8535182037533|                      8|         21|             6|                    64.5|\n",
      "|   124|                4079| 250.7709492796006|                    118|        171|            41|      145.67857142857142|\n",
      "|    51|                2111|247.92487476446036|                     52|        100|            21|                   211.1|\n",
      "|     7|                 150| 251.1926630405405|                      5|          7|             1|      21.428571428571427|\n",
      "|    15|                1914|251.10429575776783|                     59|         81|            14|      136.71428571428572|\n",
      "|    54|                2841|  251.978400607917|                     72|        163|            29|       81.17142857142858|\n",
      "|   155|                 820|240.49622712737127|                     24|         58|             3|      136.66666666666666|\n",
      "|100014|                 257| 261.8860570661157|                      7|         17|             3|      42.833333333333336|\n",
      "|   132|                1928|251.74449363344056|                     38|         96|            17|                   120.5|\n",
      "|   101|                1797|248.88575961643838|                     61|         86|            16|                   179.7|\n",
      "|    11|                 647| 246.2084100000001|                     20|         40|             9|                 40.4375|\n",
      "|   138|                2070|249.05871161486903|                     67|         95|            24|                   138.0|\n",
      "|300017|                3632| 249.7192652406623|                    113|        303|            28|      59.540983606557376|\n",
      "|100021|                 230|250.64712642857143|                      7|         11|             5|                    46.0|\n",
      "|    29|                3028|251.21818720248686|                     89|        154|            22|       89.05882352941177|\n",
      "|    69|                1125|253.56698054192233|                     33|         72|             9|                   125.0|\n",
      "|   112|                 215|248.54336257281554|                      7|          9|             3|       23.88888888888889|\n",
      "|    42|                3573|248.87731689601864|                    104|        166|            25|       87.14634146341463|\n",
      "|    73|                 377|251.70702643258429|                     11|         14|             7|      62.833333333333336|\n",
      "+------+--------------------+------------------+-----------------------+-----------+--------------+------------------------+\n",
      "only showing top 20 rows\n",
      "\n"
     ]
    }
   ],
   "source": [
    "new_features = new_features.join(songs_played_per_session.select(['userId','songs_played_per_session']),on = 'userId', how = 'inner')\n",
    "new_features.show()"
   ]
  },
  {
   "cell_type": "code",
   "execution_count": 134,
   "metadata": {},
   "outputs": [],
   "source": [
    "## create churn flag column \n",
    "users_churned = sparkify_data_v1.where(sparkify_data_v1.auth==\"Cancelled\").select(\"userId\").distinct()\n",
    "#creating a list of users who churned\n",
    "churned_list = [(row['userId']) for row in users_churned.collect()]\n",
    "#assigning 1 to the event of churn, 0 otherwise.\n",
    "sparkify_data_v1_with_churn = sparkify_data_v1.withColumn(\"churned\", when(col(\"userId\").isin(churned_list),1).otherwise(0))"
   ]
  },
  {
   "cell_type": "code",
   "execution_count": 135,
   "metadata": {},
   "outputs": [
    {
     "name": "stdout",
     "output_type": "stream",
     "text": [
      "root\n",
      " |-- artist: string (nullable = true)\n",
      " |-- auth: string (nullable = true)\n",
      " |-- firstName: string (nullable = true)\n",
      " |-- gender: string (nullable = true)\n",
      " |-- itemInSession: long (nullable = true)\n",
      " |-- lastName: string (nullable = true)\n",
      " |-- length: double (nullable = true)\n",
      " |-- level: string (nullable = true)\n",
      " |-- location: string (nullable = true)\n",
      " |-- method: string (nullable = true)\n",
      " |-- page: string (nullable = true)\n",
      " |-- registration: long (nullable = true)\n",
      " |-- sessionId: long (nullable = true)\n",
      " |-- song: string (nullable = true)\n",
      " |-- status: long (nullable = true)\n",
      " |-- ts: long (nullable = true)\n",
      " |-- userAgent: string (nullable = true)\n",
      " |-- userId: string (nullable = true)\n",
      " |-- churned: integer (nullable = false)\n",
      "\n"
     ]
    }
   ],
   "source": [
    "sparkify_data_v1_with_churn.printSchema()"
   ]
  },
  {
   "cell_type": "code",
   "execution_count": 136,
   "metadata": {},
   "outputs": [
    {
     "name": "stdout",
     "output_type": "stream",
     "text": [
      "+------+-------+\n",
      "|userId|churned|\n",
      "+------+-------+\n",
      "|    19|      0|\n",
      "|100005|      1|\n",
      "|200007|      0|\n",
      "|300007|      1|\n",
      "|    50|      0|\n",
      "|200002|      0|\n",
      "|    30|      0|\n",
      "|     8|      0|\n",
      "|100011|      1|\n",
      "|100012|      1|\n",
      "|     4|      0|\n",
      "|    65|      0|\n",
      "|   101|      1|\n",
      "|    13|      0|\n",
      "|   153|      0|\n",
      "|    42|      0|\n",
      "|100014|      1|\n",
      "|    94|      0|\n",
      "|    62|      0|\n",
      "|   114|      0|\n",
      "+------+-------+\n",
      "only showing top 20 rows\n",
      "\n"
     ]
    }
   ],
   "source": [
    "churned_users_df = sparkify_data_v1_with_churn.select(['userId', 'churned']).distinct()\n",
    "churned_users_df.show()"
   ]
  },
  {
   "cell_type": "code",
   "execution_count": 137,
   "metadata": {},
   "outputs": [
    {
     "name": "stdout",
     "output_type": "stream",
     "text": [
      "+------+--------------------+------------------+-----------------------+-----------+--------------+------------------------+-------+\n",
      "|userId|songs_played_counter|    session_length|songs_added_to_playlist|like_counts|dislike_counts|songs_played_per_session|churned|\n",
      "+------+--------------------+------------------+-----------------------+-----------+--------------+------------------------+-------+\n",
      "|100010|                 275|243.28376220149258|                      7|         17|             5|      39.285714285714285|      0|\n",
      "|200002|                 387| 243.8535182037533|                      8|         21|             6|                    64.5|      0|\n",
      "|   124|                4079| 250.7709492796006|                    118|        171|            41|      145.67857142857142|      0|\n",
      "|    51|                2111|247.92487476446036|                     52|        100|            21|                   211.1|      1|\n",
      "|     7|                 150| 251.1926630405405|                      5|          7|             1|      21.428571428571427|      0|\n",
      "|    15|                1914|251.10429575776783|                     59|         81|            14|      136.71428571428572|      0|\n",
      "|    54|                2841|  251.978400607917|                     72|        163|            29|       81.17142857142858|      1|\n",
      "|   155|                 820|240.49622712737127|                     24|         58|             3|      136.66666666666666|      0|\n",
      "|100014|                 257| 261.8860570661157|                      7|         17|             3|      42.833333333333336|      1|\n",
      "|   132|                1928|251.74449363344056|                     38|         96|            17|                   120.5|      0|\n",
      "|   101|                1797|248.88575961643838|                     61|         86|            16|                   179.7|      1|\n",
      "|    11|                 647| 246.2084100000001|                     20|         40|             9|                 40.4375|      0|\n",
      "|   138|                2070|249.05871161486903|                     67|         95|            24|                   138.0|      0|\n",
      "|300017|                3632| 249.7192652406623|                    113|        303|            28|      59.540983606557376|      0|\n",
      "|100021|                 230|250.64712642857143|                      7|         11|             5|                    46.0|      1|\n",
      "|    29|                3028|251.21818720248686|                     89|        154|            22|       89.05882352941177|      1|\n",
      "|    69|                1125|253.56698054192233|                     33|         72|             9|                   125.0|      0|\n",
      "|   112|                 215|248.54336257281554|                      7|          9|             3|       23.88888888888889|      0|\n",
      "|    42|                3573|248.87731689601864|                    104|        166|            25|       87.14634146341463|      0|\n",
      "|    73|                 377|251.70702643258429|                     11|         14|             7|      62.833333333333336|      1|\n",
      "+------+--------------------+------------------+-----------------------+-----------+--------------+------------------------+-------+\n",
      "only showing top 20 rows\n",
      "\n"
     ]
    }
   ],
   "source": [
    "new_features_with_churn = new_features.join(churned_users_df, on ='userId', how ='inner')\n",
    "new_features_with_churn.show()"
   ]
  },
  {
   "cell_type": "code",
   "execution_count": 142,
   "metadata": {},
   "outputs": [],
   "source": [
    "## convert values to float\n",
    "def convert_to_float(dataset,col_names,new_type):\n",
    "    for col_name in col_names:\n",
    "        dataset = dataset.withColumn(col_name,dataset[col_name].cast(new_type))\n",
    "    return dataset"
   ]
  },
  {
   "cell_type": "code",
   "execution_count": 143,
   "metadata": {},
   "outputs": [],
   "source": [
    "new_columns = new_features_with_churn.columns[1:]"
   ]
  },
  {
   "cell_type": "code",
   "execution_count": 144,
   "metadata": {},
   "outputs": [],
   "source": [
    "new_features_with_churn_V1 = convert_to_float(new_features_with_churn,new_columns,FloatType())"
   ]
  },
  {
   "cell_type": "code",
   "execution_count": 145,
   "metadata": {
    "scrolled": false
   },
   "outputs": [
    {
     "name": "stdout",
     "output_type": "stream",
     "text": [
      "+------+--------------------+--------------+-----------------------+-----------+--------------+------------------------+-------+\n",
      "|userId|songs_played_counter|session_length|songs_added_to_playlist|like_counts|dislike_counts|songs_played_per_session|churned|\n",
      "+------+--------------------+--------------+-----------------------+-----------+--------------+------------------------+-------+\n",
      "|100010|               275.0|     243.28377|                    7.0|       17.0|           5.0|               39.285713|    0.0|\n",
      "|200002|               387.0|     243.85352|                    8.0|       21.0|           6.0|                    64.5|    0.0|\n",
      "|   124|              4079.0|     250.77095|                  118.0|      171.0|          41.0|               145.67857|    0.0|\n",
      "|    51|              2111.0|     247.92488|                   52.0|      100.0|          21.0|                   211.1|    1.0|\n",
      "|     7|               150.0|     251.19266|                    5.0|        7.0|           1.0|               21.428572|    0.0|\n",
      "|    15|              1914.0|      251.1043|                   59.0|       81.0|          14.0|               136.71428|    0.0|\n",
      "|    54|              2841.0|      251.9784|                   72.0|      163.0|          29.0|               81.171425|    1.0|\n",
      "|   155|               820.0|     240.49623|                   24.0|       58.0|           3.0|               136.66667|    0.0|\n",
      "|100014|               257.0|     261.88605|                    7.0|       17.0|           3.0|               42.833332|    1.0|\n",
      "|   132|              1928.0|     251.74449|                   38.0|       96.0|          17.0|                   120.5|    0.0|\n",
      "|   101|              1797.0|     248.88576|                   61.0|       86.0|          16.0|                   179.7|    1.0|\n",
      "|    11|               647.0|      246.2084|                   20.0|       40.0|           9.0|                 40.4375|    0.0|\n",
      "|   138|              2070.0|     249.05872|                   67.0|       95.0|          24.0|                   138.0|    0.0|\n",
      "|300017|              3632.0|     249.71927|                  113.0|      303.0|          28.0|               59.540985|    0.0|\n",
      "|100021|               230.0|     250.64713|                    7.0|       11.0|           5.0|                    46.0|    1.0|\n",
      "|    29|              3028.0|     251.21819|                   89.0|      154.0|          22.0|                89.05882|    1.0|\n",
      "|    69|              1125.0|     253.56699|                   33.0|       72.0|           9.0|                   125.0|    0.0|\n",
      "|   112|               215.0|     248.54337|                    7.0|        9.0|           3.0|                23.88889|    0.0|\n",
      "|    42|              3573.0|     248.87732|                  104.0|      166.0|          25.0|                87.14634|    0.0|\n",
      "|    73|               377.0|     251.70703|                   11.0|       14.0|           7.0|               62.833332|    1.0|\n",
      "+------+--------------------+--------------+-----------------------+-----------+--------------+------------------------+-------+\n",
      "only showing top 20 rows\n",
      "\n"
     ]
    }
   ],
   "source": [
    "new_features_with_churn_V1.show()"
   ]
  },
  {
   "cell_type": "code",
   "execution_count": 146,
   "metadata": {},
   "outputs": [
    {
     "name": "stdout",
     "output_type": "stream",
     "text": [
      "root\n",
      " |-- userId: string (nullable = true)\n",
      " |-- songs_played_counter: float (nullable = false)\n",
      " |-- session_length: float (nullable = true)\n",
      " |-- songs_added_to_playlist: float (nullable = false)\n",
      " |-- like_counts: float (nullable = false)\n",
      " |-- dislike_counts: float (nullable = false)\n",
      " |-- songs_played_per_session: float (nullable = true)\n",
      " |-- churned: float (nullable = false)\n",
      "\n"
     ]
    }
   ],
   "source": [
    "new_features_with_churn_V1.printSchema()"
   ]
  },
  {
   "cell_type": "code",
   "execution_count": 148,
   "metadata": {},
   "outputs": [],
   "source": [
    "columns_to_plot = new_features_with_churn_V1.columns[1:]\n",
    "columns_to_plot_df = new_features_with_churn_V1.select(columns_to_plot).toPandas()"
   ]
  },
  {
   "cell_type": "markdown",
   "metadata": {},
   "source": [
    "## Plot distributions of all features"
   ]
  },
  {
   "cell_type": "code",
   "execution_count": 152,
   "metadata": {},
   "outputs": [
    {
     "name": "stderr",
     "output_type": "stream",
     "text": [
      "/opt/conda/lib/python3.6/site-packages/matplotlib/figure.py:418: UserWarning: matplotlib is currently using a non-GUI backend, so cannot show the figure\n",
      "  \"matplotlib is currently using a non-GUI backend, \"\n"
     ]
    },
    {
     "data": {
      "image/png": "[encoded data removed]",
      "text/plain": [
       "<matplotlib.figure.Figure at 0x7f8cb3b4e2b0>"
      ]
     },
     "metadata": {
      "needs_background": "light"
     },
     "output_type": "display_data"
    }
   ],
   "source": [
    "# Create a new figure\n",
    "fig = plt.figure(figsize = (12,16));\n",
    "\n",
    "# Skewed feature plotting\n",
    "for i, feature in enumerate(columns_to_plot):\n",
    "    ax = fig.add_subplot(4, 2, i+1)\n",
    "    ax.hist(columns_to_plot_df[feature], bins = 25, color = '#03B0A0')\n",
    "    ax.set_title(\"'%s' Feature \"%(feature), fontsize = 14)\n",
    "    ax.set_xlabel(\"Value\")\n",
    "    ax.set_ylabel(\"Counts\")\n",
    "\n",
    "# Plot aesthetics\n",
    "fig.suptitle(\"Distributions of Continuous Features\",fontsize = 16, y = 1.1)\n",
    "fig.tight_layout()\n",
    "fig.show()"
   ]
  },
  {
   "cell_type": "markdown",
   "metadata": {},
   "source": [
    "# Modeling\n",
    "Split the full dataset into train, test, and validation sets. Test out several of the machine learning methods you learned. Evaluate the accuracy of the various models, tuning parameters as necessary. Determine your winning model based on test accuracy and report results on the validation set. Since the churned users are a fairly small subset, I suggest using F1 score as the metric to optimize."
   ]
  },
  {
   "cell_type": "code",
   "execution_count": 174,
   "metadata": {},
   "outputs": [],
   "source": [
    "features_engineered = [\"songs_played_counter\",\"session_length\",\"songs_added_to_playlist\",\"like_counts\",\n",
    "                       \"dislike_counts\",\"songs_played_per_session\"]"
   ]
  },
  {
   "cell_type": "code",
   "execution_count": 175,
   "metadata": {},
   "outputs": [],
   "source": [
    "#### Feature Transform"
   ]
  },
  {
   "cell_type": "code",
   "execution_count": 176,
   "metadata": {},
   "outputs": [],
   "source": [
    "#transform the data\n",
    "assembler = VectorAssembler(inputCols=features_engineered, outputCol=\"features_vector\")"
   ]
  },
  {
   "cell_type": "code",
   "execution_count": 177,
   "metadata": {},
   "outputs": [],
   "source": [
    "features_transformed = assembler.transform(new_features_with_churn_V1)"
   ]
  },
  {
   "cell_type": "code",
   "execution_count": 178,
   "metadata": {},
   "outputs": [],
   "source": [
    "scaler = StandardScaler(inputCol=\"features_vector\", outputCol=\"scaledFeatures\",withStd=True, withMean=False)"
   ]
  },
  {
   "cell_type": "code",
   "execution_count": 179,
   "metadata": {},
   "outputs": [],
   "source": [
    "scaler_model = scaler.fit(features_transformed)"
   ]
  },
  {
   "cell_type": "code",
   "execution_count": 180,
   "metadata": {},
   "outputs": [],
   "source": [
    "scaled_df = scaler_model.transform(features_transformed)"
   ]
  },
  {
   "cell_type": "code",
   "execution_count": 181,
   "metadata": {},
   "outputs": [
    {
     "name": "stdout",
     "output_type": "stream",
     "text": [
      "root\n",
      " |-- userId: string (nullable = true)\n",
      " |-- songs_played_counter: float (nullable = false)\n",
      " |-- session_length: float (nullable = true)\n",
      " |-- songs_added_to_playlist: float (nullable = false)\n",
      " |-- like_counts: float (nullable = false)\n",
      " |-- dislike_counts: float (nullable = false)\n",
      " |-- songs_played_per_session: float (nullable = true)\n",
      " |-- churned: float (nullable = false)\n",
      " |-- features_vector: vector (nullable = true)\n",
      " |-- scaledFeatures: vector (nullable = true)\n",
      "\n"
     ]
    }
   ],
   "source": [
    "scaled_df.printSchema()"
   ]
  },
  {
   "cell_type": "code",
   "execution_count": 182,
   "metadata": {},
   "outputs": [
    {
     "name": "stdout",
     "output_type": "stream",
     "text": [
      "+--------------------+--------------------+\n",
      "|     features_vector|      scaledFeatures|\n",
      "+--------------------+--------------------+\n",
      "|[275.0,243.283767...|[0.24625383230211...|\n",
      "|[387.0,243.853515...|[0.34654630218515...|\n",
      "|[4079.0,250.77095...|[3.65261593440120...|\n",
      "|[2111.0,247.92488...|[1.89033396359915...|\n",
      "|[150.0,251.192657...|[0.13432027216479...|\n",
      "|[1914.0,251.10429...|[1.71392667282272...|\n",
      "|[2841.0,251.97839...|[2.54402595480113...|\n",
      "|[820.0,240.496231...|[0.73428415450085...|\n",
      "|[257.0,261.886047...|[0.23013539964234...|\n",
      "|[1928.0,251.74449...|[1.72646323155810...|\n",
      "|[1797.0,248.88575...|[1.60915686053419...|\n",
      "|[647.0,246.208404...|[0.57936810727079...|\n",
      "|[2070.0,249.05871...|[1.85361975587411...|\n",
      "|[3632.0,249.71926...|[3.25234152335013...|\n",
      "|[230.0,250.647125...|[0.20595775065267...|\n",
      "|[3028.0,251.21818...|[2.71147856076657...|\n",
      "|[1125.0,253.56698...|[1.00740204123592...|\n",
      "|[215.0,248.543365...|[0.19252572343619...|\n",
      "|[3573.0,248.87731...|[3.19950888296531...|\n",
      "|[377.0,251.707031...|[0.33759161737417...|\n",
      "+--------------------+--------------------+\n",
      "only showing top 20 rows\n",
      "\n"
     ]
    }
   ],
   "source": [
    "scaled_df.select(['features_vector', 'scaledFeatures']).show()"
   ]
  },
  {
   "cell_type": "code",
   "execution_count": 183,
   "metadata": {},
   "outputs": [
    {
     "data": {
      "text/plain": [
       "[Row(userId='100010', songs_played_counter=275.0, session_length=243.2837677001953, songs_added_to_playlist=7.0, like_counts=17.0, dislike_counts=5.0, songs_played_per_session=39.28571319580078, churned=0.0, features_vector=DenseVector([275.0, 243.2838, 7.0, 17.0, 5.0, 39.2857]), scaledFeatures=DenseVector([0.2463, 45.1153, 0.211, 0.2552, 0.3781, 0.9502]))]"
      ]
     },
     "execution_count": 183,
     "metadata": {},
     "output_type": "execute_result"
    }
   ],
   "source": [
    "scaled_df.head(1)"
   ]
  },
  {
   "cell_type": "code",
   "execution_count": 184,
   "metadata": {},
   "outputs": [],
   "source": [
    "df_ready = scaled_df"
   ]
  },
  {
   "cell_type": "code",
   "execution_count": 185,
   "metadata": {},
   "outputs": [
    {
     "name": "stdout",
     "output_type": "stream",
     "text": [
      "root\n",
      " |-- userId: string (nullable = true)\n",
      " |-- songs_played_counter: float (nullable = false)\n",
      " |-- session_length: float (nullable = true)\n",
      " |-- songs_added_to_playlist: float (nullable = false)\n",
      " |-- like_counts: float (nullable = false)\n",
      " |-- dislike_counts: float (nullable = false)\n",
      " |-- songs_played_per_session: float (nullable = true)\n",
      " |-- churned: float (nullable = false)\n",
      " |-- features_vector: vector (nullable = true)\n",
      " |-- scaledFeatures: vector (nullable = true)\n",
      "\n"
     ]
    }
   ],
   "source": [
    "df_ready.printSchema()"
   ]
  },
  {
   "cell_type": "code",
   "execution_count": 186,
   "metadata": {
    "scrolled": false
   },
   "outputs": [
    {
     "name": "stdout",
     "output_type": "stream",
     "text": [
      "+------+--------------------+--------------+-----------------------+-----------+--------------+------------------------+-------+--------------------+--------------------+\n",
      "|userId|songs_played_counter|session_length|songs_added_to_playlist|like_counts|dislike_counts|songs_played_per_session|churned|     features_vector|      scaledFeatures|\n",
      "+------+--------------------+--------------+-----------------------+-----------+--------------+------------------------+-------+--------------------+--------------------+\n",
      "|100010|               275.0|     243.28377|                    7.0|       17.0|           5.0|               39.285713|    0.0|[275.0,243.283767...|[0.24625383230211...|\n",
      "|200002|               387.0|     243.85352|                    8.0|       21.0|           6.0|                    64.5|    0.0|[387.0,243.853515...|[0.34654630218515...|\n",
      "|   124|              4079.0|     250.77095|                  118.0|      171.0|          41.0|               145.67857|    0.0|[4079.0,250.77095...|[3.65261593440120...|\n",
      "+------+--------------------+--------------+-----------------------+-----------+--------------+------------------------+-------+--------------------+--------------------+\n",
      "only showing top 3 rows\n",
      "\n"
     ]
    }
   ],
   "source": [
    "df_ready.show(3)"
   ]
  },
  {
   "cell_type": "markdown",
   "metadata": {},
   "source": [
    "### Split the data into train and test"
   ]
  },
  {
   "cell_type": "code",
   "execution_count": 187,
   "metadata": {},
   "outputs": [],
   "source": [
    "train , test = df_ready.randomSplit([0.8,0.2], seed = 42)"
   ]
  },
  {
   "cell_type": "code",
   "execution_count": 188,
   "metadata": {},
   "outputs": [
    {
     "data": {
      "text/plain": [
       "[Row(userId='100010', songs_played_counter=275.0, session_length=243.2837677001953, songs_added_to_playlist=7.0, like_counts=17.0, dislike_counts=5.0, songs_played_per_session=39.28571319580078, churned=0.0, features_vector=DenseVector([275.0, 243.2838, 7.0, 17.0, 5.0, 39.2857]), scaledFeatures=DenseVector([0.2463, 45.1153, 0.211, 0.2552, 0.3781, 0.9502])),\n",
       " Row(userId='124', songs_played_counter=4079.0, session_length=250.7709503173828, songs_added_to_playlist=118.0, like_counts=171.0, dislike_counts=41.0, songs_played_per_session=145.67857360839844, churned=0.0, features_vector=DenseVector([4079.0, 250.771, 118.0, 171.0, 41.0, 145.6786]), scaledFeatures=DenseVector([3.6526, 46.5037, 3.5561, 2.5666, 3.1003, 3.5235])),\n",
       " Row(userId='7', songs_played_counter=150.0, session_length=251.19265747070312, songs_added_to_playlist=5.0, like_counts=7.0, dislike_counts=1.0, songs_played_per_session=21.428571701049805, churned=0.0, features_vector=DenseVector([150.0, 251.1927, 5.0, 7.0, 1.0, 21.4286]), scaledFeatures=DenseVector([0.1343, 46.5819, 0.1507, 0.1051, 0.0756, 0.5183])),\n",
       " Row(userId='54', songs_played_counter=2841.0, session_length=251.9783935546875, songs_added_to_playlist=72.0, like_counts=163.0, dislike_counts=29.0, songs_played_per_session=81.17142486572266, churned=1.0, features_vector=DenseVector([2841.0, 251.9784, 72.0, 163.0, 29.0, 81.1714]), scaledFeatures=DenseVector([2.544, 46.7276, 2.1698, 2.4466, 2.1929, 1.9633])),\n",
       " Row(userId='155', songs_played_counter=820.0, session_length=240.49623107910156, songs_added_to_playlist=24.0, like_counts=58.0, dislike_counts=3.0, songs_played_per_session=136.6666717529297, churned=0.0, features_vector=DenseVector([820.0, 240.4962, 24.0, 58.0, 3.0, 136.6667]), scaledFeatures=DenseVector([0.7343, 44.5983, 0.7233, 0.8706, 0.2268, 3.3055])),\n",
       " Row(userId='100014', songs_played_counter=257.0, session_length=261.88604736328125, songs_added_to_playlist=7.0, like_counts=17.0, dislike_counts=3.0, songs_played_per_session=42.83333206176758, churned=1.0, features_vector=DenseVector([257.0, 261.886, 7.0, 17.0, 3.0, 42.8333]), scaledFeatures=DenseVector([0.2301, 48.5649, 0.211, 0.2552, 0.2268, 1.036])),\n",
       " Row(userId='132', songs_played_counter=1928.0, session_length=251.74449157714844, songs_added_to_playlist=38.0, like_counts=96.0, dislike_counts=17.0, songs_played_per_session=120.5, churned=0.0, features_vector=DenseVector([1928.0, 251.7445, 38.0, 96.0, 17.0, 120.5]), scaledFeatures=DenseVector([1.7265, 46.6843, 1.1452, 1.4409, 1.2855, 2.9145])),\n",
       " Row(userId='101', songs_played_counter=1797.0, session_length=248.88575744628906, songs_added_to_playlist=61.0, like_counts=86.0, dislike_counts=16.0, songs_played_per_session=179.6999969482422, churned=1.0, features_vector=DenseVector([1797.0, 248.8858, 61.0, 86.0, 16.0, 179.7]), scaledFeatures=DenseVector([1.6092, 46.1541, 1.8383, 1.2908, 1.2099, 4.3463])),\n",
       " Row(userId='11', songs_played_counter=647.0, session_length=246.20840454101562, songs_added_to_playlist=20.0, like_counts=40.0, dislike_counts=9.0, songs_played_per_session=40.4375, churned=0.0, features_vector=DenseVector([647.0, 246.2084, 20.0, 40.0, 9.0, 40.4375]), scaledFeatures=DenseVector([0.5794, 45.6576, 0.6027, 0.6004, 0.6805, 0.978])),\n",
       " Row(userId='138', songs_played_counter=2070.0, session_length=249.0587158203125, songs_added_to_playlist=67.0, like_counts=95.0, dislike_counts=24.0, songs_played_per_session=138.0, churned=0.0, features_vector=DenseVector([2070.0, 249.0587, 67.0, 95.0, 24.0, 138.0]), scaledFeatures=DenseVector([1.8536, 46.1862, 2.0191, 1.4259, 1.8148, 3.3377]))]"
      ]
     },
     "execution_count": 188,
     "metadata": {},
     "output_type": "execute_result"
    }
   ],
   "source": [
    "train.head(10)"
   ]
  },
  {
   "cell_type": "code",
   "execution_count": 189,
   "metadata": {
    "scrolled": false
   },
   "outputs": [
    {
     "data": {
      "text/plain": [
       "[Row(userId='200002', songs_played_counter=387.0, session_length=243.853515625, songs_added_to_playlist=8.0, like_counts=21.0, dislike_counts=6.0, songs_played_per_session=64.5, churned=0.0, features_vector=DenseVector([387.0, 243.8535, 8.0, 21.0, 6.0, 64.5]), scaledFeatures=DenseVector([0.3465, 45.2209, 0.2411, 0.3152, 0.4537, 1.56])),\n",
       " Row(userId='51', songs_played_counter=2111.0, session_length=247.9248809814453, songs_added_to_playlist=52.0, like_counts=100.0, dislike_counts=21.0, songs_played_per_session=211.10000610351562, churned=1.0, features_vector=DenseVector([2111.0, 247.9249, 52.0, 100.0, 21.0, 211.1]), scaledFeatures=DenseVector([1.8903, 45.9759, 1.5671, 1.501, 1.5879, 5.1058])),\n",
       " Row(userId='15', songs_played_counter=1914.0, session_length=251.1042938232422, songs_added_to_playlist=59.0, like_counts=81.0, dislike_counts=14.0, songs_played_per_session=136.7142791748047, churned=0.0, features_vector=DenseVector([1914.0, 251.1043, 59.0, 81.0, 14.0, 136.7143]), scaledFeatures=DenseVector([1.7139, 46.5655, 1.7781, 1.2158, 1.0586, 3.3066])),\n",
       " Row(userId='3', songs_played_counter=214.0, session_length=254.83056640625, songs_added_to_playlist=4.0, like_counts=14.0, dislike_counts=3.0, songs_played_per_session=53.5, churned=1.0, features_vector=DenseVector([214.0, 254.8306, 4.0, 14.0, 3.0, 53.5]), scaledFeatures=DenseVector([0.1916, 47.2565, 0.1205, 0.2101, 0.2268, 1.294])),\n",
       " Row(userId='28', songs_played_counter=1457.0, session_length=252.03433227539062, songs_added_to_playlist=50.0, like_counts=79.0, dislike_counts=22.0, songs_played_per_session=76.68421173095703, churned=1.0, features_vector=DenseVector([1457.0, 252.0343, 50.0, 79.0, 22.0, 76.6842]), scaledFeatures=DenseVector([1.3047, 46.738, 1.5068, 1.1858, 1.6636, 1.8547])),\n",
       " Row(userId='100022', songs_played_counter=681.0, session_length=247.8273162841797, songs_added_to_playlist=14.0, like_counts=45.0, dislike_counts=20.0, songs_played_per_session=34.04999923706055, churned=1.0, features_vector=DenseVector([681.0, 247.8273, 14.0, 45.0, 20.0, 34.05]), scaledFeatures=DenseVector([0.6098, 45.9578, 0.4219, 0.6754, 1.5123, 0.8235])),\n",
       " Row(userId='100', songs_played_counter=2682.0, session_length=250.44346618652344, songs_added_to_playlist=61.0, like_counts=148.0, dislike_counts=27.0, songs_played_per_session=78.88235473632812, churned=0.0, features_vector=DenseVector([2682.0, 250.4435, 61.0, 148.0, 27.0, 78.8824]), scaledFeatures=DenseVector([2.4016, 46.443, 1.8383, 2.2214, 2.0416, 1.9079])),\n",
       " Row(userId='100005', songs_played_counter=154.0, session_length=240.47018432617188, songs_added_to_playlist=3.0, like_counts=7.0, dislike_counts=3.0, songs_played_per_session=38.5, churned=1.0, features_vector=DenseVector([154.0, 240.4702, 3.0, 7.0, 3.0, 38.5]), scaledFeatures=DenseVector([0.1379, 44.5935, 0.0904, 0.1051, 0.2268, 0.9312])),\n",
       " Row(userId='120', songs_played_counter=1571.0, session_length=249.58531188964844, songs_added_to_playlist=44.0, like_counts=81.0, dislike_counts=13.0, songs_played_per_session=112.21428680419922, churned=0.0, features_vector=DenseVector([1571.0, 249.5853, 44.0, 81.0, 13.0, 112.2143]), scaledFeatures=DenseVector([1.4068, 46.2839, 1.326, 1.2158, 0.983, 2.7141])),\n",
       " Row(userId='136', songs_played_counter=2124.0, session_length=248.74742126464844, songs_added_to_playlist=66.0, like_counts=110.0, dislike_counts=15.0, songs_played_per_session=106.19999694824219, churned=0.0, features_vector=DenseVector([2124.0, 248.7474, 66.0, 110.0, 15.0, 106.2]), scaledFeatures=DenseVector([1.902, 46.1285, 1.989, 1.6511, 1.1342, 2.5686]))]"
      ]
     },
     "execution_count": 189,
     "metadata": {},
     "output_type": "execute_result"
    }
   ],
   "source": [
    "test.head(10)"
   ]
  },
  {
   "cell_type": "markdown",
   "metadata": {},
   "source": [
    "## Model Selection & Evaluation"
   ]
  },
  {
   "cell_type": "markdown",
   "metadata": {},
   "source": [
    "**I will train 5 algorithms on the dataset and select the best model**"
   ]
  },
  {
   "cell_type": "markdown",
   "metadata": {},
   "source": [
    "1. RandomForestClassifier\n",
    "2. Naive Bayes classifier \n",
    "3. DecisionTreeClassifier\n",
    "4. LogisticRegression\n",
    "5. GradientBoostedTreeClassifier"
   ]
  },
  {
   "cell_type": "code",
   "execution_count": 190,
   "metadata": {},
   "outputs": [],
   "source": [
    "import time"
   ]
  },
  {
   "cell_type": "markdown",
   "metadata": {},
   "source": [
    "### Random Forest classifier "
   ]
  },
  {
   "cell_type": "code",
   "execution_count": 300,
   "metadata": {},
   "outputs": [],
   "source": [
    "rf = RandomForestClassifier(featuresCol = 'scaledFeatures', labelCol = 'churned')"
   ]
  },
  {
   "cell_type": "code",
   "execution_count": 301,
   "metadata": {},
   "outputs": [
    {
     "name": "stdout",
     "output_type": "stream",
     "text": [
      "Model is trained and spent 92.38722229003906 seconds\n"
     ]
    }
   ],
   "source": [
    "start = time.time()\n",
    "model_rf = rf.fit(train)\n",
    "end = time.time()\n",
    "print(f'Model is trained and spent {end - start} seconds')"
   ]
  },
  {
   "cell_type": "code",
   "execution_count": 302,
   "metadata": {},
   "outputs": [
    {
     "name": "stdout",
     "output_type": "stream",
     "text": [
      "Area Under Curve: 0.6\n",
      "Test Error = 0.4\n"
     ]
    }
   ],
   "source": [
    "preds = model_rf.transform(test)\n",
    "ROC_elevator_rf= BinaryClassificationEvaluator(rawPredictionCol='prediction', labelCol='churned', metricName='areaUnderROC')\n",
    "ROC_rf = ROC_elevator_rf.evaluate(preds)\n",
    "print(\"Area Under Curve: \" + str(ROC_rf))\n",
    "print(\"Test Error = %g\" % (1.0 - ROC_rf))"
   ]
  },
  {
   "cell_type": "markdown",
   "metadata": {},
   "source": [
    "### Naive Bayes classifier "
   ]
  },
  {
   "cell_type": "code",
   "execution_count": 239,
   "metadata": {},
   "outputs": [],
   "source": [
    "nv = NaiveBayes(featuresCol = 'scaledFeatures', labelCol = 'churned')"
   ]
  },
  {
   "cell_type": "code",
   "execution_count": 240,
   "metadata": {},
   "outputs": [
    {
     "name": "stdout",
     "output_type": "stream",
     "text": [
      "Model is trained and spent 53.696372747421265s\n"
     ]
    }
   ],
   "source": [
    "start = time.time()\n",
    "model_nv = nv.fit(train)\n",
    "end = time.time()\n",
    "print(f'Model is trained and spent {end - start}s')"
   ]
  },
  {
   "cell_type": "code",
   "execution_count": 241,
   "metadata": {},
   "outputs": [
    {
     "name": "stdout",
     "output_type": "stream",
     "text": [
      "Area Under Curve: 0.5\n",
      "Test Error = 0.5\n"
     ]
    }
   ],
   "source": [
    "preds = model_nv.transform(test)\n",
    "ROC_elevator_nv= BinaryClassificationEvaluator(rawPredictionCol='prediction', labelCol='churned', metricName='areaUnderROC')\n",
    "ROC_nv = ROC_elevator_nv.evaluate(preds)\n",
    "print(\"Area Under Curve: \" + str(ROC_nv))\n",
    "print(\"Test Error = %g\" % (1.0 - ROC_nv))"
   ]
  },
  {
   "cell_type": "markdown",
   "metadata": {},
   "source": [
    "### Decision Tree classifier "
   ]
  },
  {
   "cell_type": "code",
   "execution_count": 242,
   "metadata": {},
   "outputs": [],
   "source": [
    "ds = DecisionTreeClassifier(featuresCol = 'scaledFeatures', labelCol = 'churned',maxDepth=7)"
   ]
  },
  {
   "cell_type": "code",
   "execution_count": 243,
   "metadata": {},
   "outputs": [
    {
     "name": "stdout",
     "output_type": "stream",
     "text": [
      "Model is trained and spent 84.65532064437866s\n"
     ]
    }
   ],
   "source": [
    "start = time.time()\n",
    "model_ds = ds.fit(train)\n",
    "end = time.time()\n",
    "print(f'Model is trained and spent {end - start}s')"
   ]
  },
  {
   "cell_type": "code",
   "execution_count": 244,
   "metadata": {},
   "outputs": [
    {
     "name": "stdout",
     "output_type": "stream",
     "text": [
      "Area Under Curve: 0.55\n",
      "Test Error = 0.45\n"
     ]
    }
   ],
   "source": [
    "preds = model_ds.transform(test)\n",
    "ROC_elevator_ds= BinaryClassificationEvaluator(rawPredictionCol='prediction', labelCol='churned', metricName='areaUnderROC')\n",
    "ROC_ds = ROC_elevator_ds.evaluate(preds)\n",
    "print(\"Area Under Curve: \" + str(ROC_ds))\n",
    "print(\"Test Error = %g\" % (1.0 - ROC_ds))"
   ]
  },
  {
   "cell_type": "markdown",
   "metadata": {},
   "source": [
    "### Logistic Regression classifier "
   ]
  },
  {
   "cell_type": "code",
   "execution_count": 256,
   "metadata": {},
   "outputs": [],
   "source": [
    "lr = LogisticRegression(featuresCol = 'scaledFeatures', labelCol = 'churned')"
   ]
  },
  {
   "cell_type": "code",
   "execution_count": 257,
   "metadata": {},
   "outputs": [
    {
     "name": "stdout",
     "output_type": "stream",
     "text": [
      "Model is trained and spent 222.21597623825073s\n"
     ]
    }
   ],
   "source": [
    "start = time.time()\n",
    "model_lr = lr.fit(train)\n",
    "end = time.time()\n",
    "print(f'Model is trained and spent {end - start}s')"
   ]
  },
  {
   "cell_type": "code",
   "execution_count": 258,
   "metadata": {},
   "outputs": [],
   "source": [
    "preds = model_lr.transform(test)"
   ]
  },
  {
   "cell_type": "code",
   "execution_count": 259,
   "metadata": {},
   "outputs": [
    {
     "name": "stdout",
     "output_type": "stream",
     "text": [
      "Area Under Curve: 0.5\n",
      "Test Error = 0.5\n"
     ]
    }
   ],
   "source": [
    "ROC_elevator_lr= BinaryClassificationEvaluator(rawPredictionCol='prediction', labelCol='churned', metricName='areaUnderROC')\n",
    "ROC_lr = ROC_elevator_lr.evaluate(preds)\n",
    "print(\"Area Under Curve: \" + str(ROC_lr))\n",
    "print(\"Test Error = %g\" % (1.0 - ROC_lr))"
   ]
  },
  {
   "cell_type": "markdown",
   "metadata": {},
   "source": [
    "### GradientBoostedTreeClassifier"
   ]
  },
  {
   "cell_type": "code",
   "execution_count": 253,
   "metadata": {},
   "outputs": [],
   "source": [
    "gb = GBTClassifier(featuresCol = 'scaledFeatures', labelCol = 'churned')"
   ]
  },
  {
   "cell_type": "code",
   "execution_count": 254,
   "metadata": {},
   "outputs": [
    {
     "name": "stdout",
     "output_type": "stream",
     "text": [
      "Model is trained and spent 303.87891817092896s\n"
     ]
    }
   ],
   "source": [
    "start = time.time()\n",
    "model_gb = gb.fit(train)\n",
    "end = time.time()\n",
    "print(f'Model is trained and spent {end - start}s')"
   ]
  },
  {
   "cell_type": "code",
   "execution_count": 255,
   "metadata": {},
   "outputs": [
    {
     "name": "stdout",
     "output_type": "stream",
     "text": [
      "Area Under Curve: 0.6\n",
      "Test Error = 0.4\n"
     ]
    }
   ],
   "source": [
    "preds = model_gb.transform(test)\n",
    "ROC_elevator_gb= BinaryClassificationEvaluator(rawPredictionCol='prediction', labelCol='churned', metricName='areaUnderROC')\n",
    "ROC_gb = ROC_elevator_gb.evaluate(preds)\n",
    "print(\"Area Under Curve: \" + str(ROC_gb))\n",
    "print(\"Test Error = %g\" % (1.0 - ROC_gb))"
   ]
  },
  {
   "cell_type": "markdown",
   "metadata": {},
   "source": [
    "## Model Tuning and Improve Performance"
   ]
  },
  {
   "cell_type": "markdown",
   "metadata": {},
   "source": [
    "**I will use Random Forest and Gradient Boosted Tree to perform cross-validation**"
   ]
  },
  {
   "cell_type": "code",
   "execution_count": null,
   "metadata": {},
   "outputs": [],
   "source": []
  },
  {
   "cell_type": "code",
   "execution_count": 260,
   "metadata": {},
   "outputs": [],
   "source": [
    "train_cross_val = train.withColumnRenamed(\"churned\", \"label\").withColumnRenamed(\"scaledFeatures\", 'features')"
   ]
  },
  {
   "cell_type": "code",
   "execution_count": 261,
   "metadata": {},
   "outputs": [],
   "source": [
    "test_cross_val= test.withColumnRenamed(\"churned\", \"label\").withColumnRenamed(\"scaledFeatures\", 'features')"
   ]
  },
  {
   "cell_type": "code",
   "execution_count": 304,
   "metadata": {},
   "outputs": [],
   "source": [
    "numFolds = 3\n",
    "rf_cv = RandomForestClassifier(maxBins=10)\n",
    "evaluator = BinaryClassificationEvaluator()  \n",
    "paramGrid = (ParamGridBuilder().addGrid(rf_cv.numTrees, [10, 15]).addGrid(rf_cv.maxDepth, [4, 10, 15]).build())"
   ]
  },
  {
   "cell_type": "code",
   "execution_count": 305,
   "metadata": {},
   "outputs": [],
   "source": [
    "cross_validator = CrossValidator(estimator=rf_cv,estimatorParamMaps=paramGrid,evaluator=evaluator,numFolds=numFolds)"
   ]
  },
  {
   "cell_type": "code",
   "execution_count": 306,
   "metadata": {},
   "outputs": [],
   "source": [
    "start = time.time()\n",
    "model_rf_cv = cross_validator.fit(train_cross_val)\n",
    "end = time.time()"
   ]
  },
  {
   "cell_type": "code",
   "execution_count": 307,
   "metadata": {},
   "outputs": [
    {
     "name": "stdout",
     "output_type": "stream",
     "text": [
      "Training took 958.0781052112579 seconds. For Random Forest Cross Validation\n"
     ]
    }
   ],
   "source": [
    "print(\"Training took %s seconds. For Random Forest Cross Validation\" % (end - start))"
   ]
  },
  {
   "cell_type": "code",
   "execution_count": 308,
   "metadata": {},
   "outputs": [],
   "source": [
    "def check_accuracy(model,test_data):\n",
    "    '''\n",
    "    Function : return accuracy and area under curve\n",
    "    Arguments : model and test data\n",
    "    returnns : accuracy and AUC\n",
    "    '''\n",
    "    print(\"Model is testing .........\")\n",
    "    preds = model.transform(test_data)\n",
    "    \n",
    "    evaluator_areaUnderROC = BinaryClassificationEvaluator(rawPredictionCol='prediction', labelCol='label', metricName='areaUnderROC')\n",
    "    ROC = evaluator_areaUnderROC.evaluate(preds)\n",
    "    print(\"Test Area Under ROC: \" + str(ROC))\n",
    "    print(\"Test Error = %g\" % (1.0 - ROC))\n",
    "    \n",
    "    return preds, ROC"
   ]
  },
  {
   "cell_type": "code",
   "execution_count": 309,
   "metadata": {},
   "outputs": [
    {
     "name": "stdout",
     "output_type": "stream",
     "text": [
      "Model is testing .........\n",
      "Test Area Under ROC: 0.6285714285714286\n",
      "Test Error = 0.371429\n"
     ]
    },
    {
     "data": {
      "text/plain": [
       "(DataFrame[userId: string, songs_played_counter: float, session_length: float, songs_added_to_playlist: float, like_counts: float, dislike_counts: float, songs_played_per_session: float, label: float, features_vector: vector, features: vector, rawPrediction: vector, probability: vector, prediction: double],\n",
       " 0.6285714285714286)"
      ]
     },
     "execution_count": 309,
     "metadata": {},
     "output_type": "execute_result"
    }
   ],
   "source": [
    "check_accuracy(model_rf_cv,test_cross_val)"
   ]
  },
  {
   "cell_type": "markdown",
   "metadata": {},
   "source": [
    "# Final Steps\n",
    "Clean up your code, adding comments and renaming variables to make the code easier to read and maintain. Refer to the Spark Project Overview page and Data Scientist Capstone Project Rubric to make sure you are including all components of the capstone project and meet all expectations. Remember, this includes thorough documentation in a README file in a Github repository, as well as a web app or blog post."
   ]
  },
  {
   "cell_type": "markdown",
   "metadata": {},
   "source": [
    "https://github.com/AhmadAbdElhameed/Data-Scientist-Nanodegree/blob/main/sparkify%20capstone%20project/README.md"
   ]
  },
  {
   "cell_type": "markdown",
   "metadata": {},
   "source": [
    "#### Blog Post"
   ]
  },
  {
   "cell_type": "markdown",
   "metadata": {},
   "source": [
    "https://am2958.medium.com/sparkify-capstone-project-2b9eb2bc4a76"
   ]
  },
  {
   "cell_type": "markdown",
   "metadata": {},
   "source": [
    "#### References"
   ]
  },
  {
   "cell_type": "markdown",
   "metadata": {},
   "source": [
    "- https://spark.apache.org/docs/latest/ml-classification-regression.html\n",
    "- https://knowledge.udacity.com/questions/701396\n",
    "- https://knowledge.udacity.com/questions/682588\n",
    "- https://knowledge.udacity.com/questions/55247\n",
    "- https://knowledge.udacity.com/questions/354600"
   ]
  },
  {
   "cell_type": "code",
   "execution_count": null,
   "metadata": {},
   "outputs": [],
   "source": []
  }
 ],
 "metadata": {
  "kernelspec": {
   "display_name": "Python 3",
   "language": "python",
   "name": "python3"
  },
  "language_info": {
   "codemirror_mode": {
    "name": "ipython",
    "version": 3
   },
   "file_extension": ".py",
   "mimetype": "text/x-python",
   "name": "python",
   "nbconvert_exporter": "python",
   "pygments_lexer": "ipython3",
   "version": "3.6.3"
  }
 },
 "nbformat": 4,
 "nbformat_minor": 2
}
